{
  "nbformat": 4,
  "nbformat_minor": 0,
  "metadata": {
    "colab": {
      "provenance": [],
      "toc_visible": true,
      "include_colab_link": true
    },
    "kernelspec": {
      "name": "python3",
      "display_name": "Python 3"
    },
    "language_info": {
      "name": "python"
    }
  },
  "cells": [
    {
      "cell_type": "markdown",
      "metadata": {
        "id": "view-in-github",
        "colab_type": "text"
      },
      "source": [
        "<a href=\"https://colab.research.google.com/github/artem1101666/bobik666/blob/main/%D0%9A%D0%BE%D0%BF%D0%B8%D1%8F_%D0%B1%D0%BB%D0%BE%D0%BA%D0%BD%D0%BE%D1%82%D0%B0_%22%D0%9F%D1%80%D0%B0%D0%BA%D1%82%D0%B8%D0%BA%D0%B0_1_1_0_ipynb%22.ipynb\" target=\"_parent\"><img src=\"https://colab.research.google.com/assets/colab-badge.svg\" alt=\"Open In Colab\"/></a>"
      ]
    },
    {
      "cell_type": "markdown",
      "source": [
        "**ФИО:**"
      ],
      "metadata": {
        "id": "GEsFKJm-ABFp"
      }
    },
    {
      "cell_type": "code",
      "execution_count": null,
      "metadata": {
        "id": "wZMLYG_G_-19"
      },
      "outputs": [],
      "source": [
        "Синцов Артемий Владимирович"
      ]
    },
    {
      "cell_type": "markdown",
      "source": [],
      "metadata": {
        "id": "KGvFqYIKAkhP"
      }
    },
    {
      "cell_type": "markdown",
      "source": [
        "# Задание 1"
      ],
      "metadata": {
        "id": "H4DrYnJjADuZ"
      }
    },
    {
      "cell_type": "markdown",
      "source": [
        "**Описание:** Создайте иерархию классов для разных типов сотрудников в компании. Реализуйте родительский класс Employee и дочерние классы Manager и Developer. Каждый класс должен иметь метод для расчета зарплаты на основе различных критериев класса.\n",
        "\n",
        "\n",
        "Отрабатываемый принцип: Наследование\n",
        "\n"
      ],
      "metadata": {
        "id": "C17FWep-AF4a"
      }
    },
    {
      "cell_type": "code",
      "source": [
        "class Employee:\n",
        "    def __init__(self,salary_per_hours):\n",
        "        self.salary_per_hours=salary_per_hours\n",
        "\n",
        "class Manager(Employee):\n",
        "    def __init__(self,salary_per_hours,manager_rank):\n",
        "        self.manager_rank=manager_rank\n",
        "        super().__init__(salary_per_hours)\n",
        "\n",
        "    def salary(self):\n",
        "        if manager_rank==\"1\":\n",
        "            calculation=1*salary_per_hours\n",
        "        elif manager_rank==\"2\":\n",
        "            calculation=2*salary_per_hours\n",
        "        elif manager_rank==\"3\":\n",
        "            calculation=3*salary_per_hours\n",
        "        else:\n",
        "            print(\"Ощибка, введите корректную цифру\")\n",
        "            return None\n",
        "        return calculation\n",
        "\n",
        "\n",
        "class Developer(Employee):\n",
        "     def __init__(self,salary_per_hours,developer_rank):\n",
        "        self.developer_rank=developer_rank\n",
        "        super().__init__(salary_per_hours)\n",
        "\n",
        "     def salary(self):\n",
        "        if developer_rank==\"1\":\n",
        "            calculation=1*salary_per_hours\n",
        "        elif developer_rank==\"2\":\n",
        "            calculation=2*salary_per_hours\n",
        "        elif developer_rank==\"3\":\n",
        "            calculation=3*salary_per_hours\n",
        "        else:\n",
        "            print(\"Ощибка, введите корректную цифру\")\n",
        "            return None\n",
        "        return calculation\n",
        "\n",
        "\n",
        "salary_per_hours=float(input(\"Введите зп \"))\n",
        "print(\"Выберете класс менеджера\")\n",
        "print(\"1-Менеджер низшего звена\")\n",
        "print(\"2-Менеджер среднего звена\")\n",
        "print(\"3-Менеджер высшего звена\")\n",
        "manager_rank=input(\"1,2 или 3? \")\n",
        "\n",
        "print(\"1-Менеджер низшего звена\")\n",
        "print(\"2-Менеджер среднего звена\")\n",
        "print(\"3-Менеджер высшего звена\")\n",
        "developer_rank=input(\"1,2 или 3? \")\n",
        "\n",
        "manager = Manager(salary_per_hours, manager_rank)\n",
        "developer = Developer(salary_per_hours, developer_rank)\n",
        "\n",
        "print(f\"Зарплата менеджера: {manager.salary()}\")\n",
        "print(f\"Зарплата разработчика: {developer.salary()}\")"
      ],
      "metadata": {
        "id": "aexGXzqCAFH7",
        "colab": {
          "base_uri": "https://localhost:8080/"
        },
        "outputId": "2910242c-2a15-4d86-97f2-629b2ec54808"
      },
      "execution_count": null,
      "outputs": [
        {
          "output_type": "stream",
          "name": "stdout",
          "text": [
            "Введите зп 100\n",
            "Выберете класс менеджера\n",
            "1-Менеджер низшего звена\n",
            "2-Менеджер среднего звена\n",
            "3-Менеджер высшего звена\n",
            "1,2 или 3? 2\n",
            "1-Менеджер низшего звена\n",
            "2-Менеджер среднего звена\n",
            "3-Менеджер высшего звена\n",
            "1,2 или 3? 3\n",
            "Зарплата менеджера: 200.0\n",
            "Зарплата разработчика: 300.0\n"
          ]
        }
      ]
    },
    {
      "cell_type": "markdown",
      "source": [
        "# Задание 2"
      ],
      "metadata": {
        "id": "ERAi0TG5BI6v"
      }
    },
    {
      "cell_type": "markdown",
      "source": [
        "**Описание:** Создайте иерархию классов для различных типов транспортных средств (Необходим один родительский класс и 3 дочерних). Реализуйте метод, который позволяет каждому транспортному средству возвращать собственное описание (Метод в каждом классе должен иметь одинаковое название). Продемонстрируйте вызов данного метода для каждого транспортного средства.\n",
        "\n",
        "\n",
        "Отрабатываемый принцип: Полиморфизм"
      ],
      "metadata": {
        "id": "sJ3k7ZcgBK87"
      }
    },
    {
      "cell_type": "code",
      "source": [
        "class car:\n",
        "    def characteristics(self):\n",
        "        return f\"Характеристики автомобиля\"\n",
        "\n",
        "class PassengerCar:\n",
        "    def __init__(self,count_seating,weight,):\n",
        "        self.count_seating = count_seating\n",
        "        self.weight = weight\n",
        "\n",
        "    def characteristics(self):\n",
        "        return f\"Легковой автомобиль кол-во сидячих мест {self.count_seating},\\\n",
        "масса {self.weight}\"\n",
        "\n",
        "\n",
        "class Trucks:\n",
        "    def __init__(self,capacity,power):\n",
        "        self.capacity = capacity\n",
        "        self.power = power\n",
        "\n",
        "    def characteristics(self):\n",
        "        return f\"Грузовой автомобиль емкость {self.capacity},\\\n",
        "кол_во лошадиных сил {self.power}\"\n",
        "\n",
        "class PublicTransport:\n",
        "    def __init__(self,number,max_speed):\n",
        "        self.number = number\n",
        "        self.max_speed = max_speed\n",
        "\n",
        "    def characteristics(self):\n",
        "        return f\"Общественный транспрорт номер{self.number},\\\n",
        "максимальная скорость {self.max_speed}\"\n",
        "\n",
        "\n",
        "car=PassengerCar(6,750)\n",
        "truck=Trucks('900 тонн',1000)\n",
        "public_ransport=PublicTransport(56,120)\n",
        "\n",
        "print(car.characteristics())\n",
        "print(truck.characteristics())\n",
        "print(public_ransport.characteristics())"
      ],
      "metadata": {
        "id": "WOFOZQmDBKf4",
        "colab": {
          "base_uri": "https://localhost:8080/"
        },
        "outputId": "a61bb293-e73c-4600-9880-0c489aee8294"
      },
      "execution_count": null,
      "outputs": [
        {
          "output_type": "stream",
          "name": "stdout",
          "text": [
            "Легковой автомобиль кол-во сидячих мест 6,масса 750\n",
            "Грузовой автомобиль емкость 900 тонн,кол_во лошадиных сил 1000\n",
            "Общественный транспрорт номер56,максимальная скорость 120\n"
          ]
        }
      ]
    },
    {
      "cell_type": "markdown",
      "source": [],
      "metadata": {
        "id": "XL1N1bIakfT0"
      }
    },
    {
      "cell_type": "markdown",
      "source": [
        "# Задание 3"
      ],
      "metadata": {
        "id": "7E_SJXMJBvD4"
      }
    },
    {
      "cell_type": "markdown",
      "source": [
        "## Онлайн-магазин:\n",
        "- Создайте модель для онлайн-магазина с классами Product, Order, Customer, и ShoppingCart.\n",
        "- Product включает информацию о цене, наличии на складе и категории товара.\n",
        "Order обрабатывает процесс покупки, включая расчет цены с учетом скидок и налогов.\n",
        "- Customer управляет информацией о пользователе и его истории заказов.\n",
        "- ShoppingCart позволяет добавлять, удалять и обновлять количество товаров перед оформлением заказа.\n"
      ],
      "metadata": {
        "id": "dd1mwKj_BxHa"
      }
    },
    {
      "cell_type": "code",
      "source": [
        "class Product:\n",
        "    def __init__(self, name, price, availability, category):\n",
        "        self.name = name\n",
        "        self.price = price\n",
        "        self.availability = availability\n",
        "        self.category = category\n",
        "\n",
        "    def __str__(self):\n",
        "        return f\"Имя: {self.name}, цена: {self.price}, наличие: {self.availability}, категория: {self.category}\"\n",
        "\n",
        "    def is_available(self, quantity):\n",
        "        return self.availability >= quantity\n",
        "\n",
        "    def update_stock(self, quantity):\n",
        "        self.availability -= quantity\n",
        "\n",
        "\n",
        "class Customer:\n",
        "    def __init__(self, name, phone_namber, card_details):\n",
        "        self.name = name\n",
        "        self.phone_namber = phone_namber\n",
        "        self.card_details = card_details\n",
        "        self.order_history = []\n",
        "\n",
        "    def change_orders_story(self, order):\n",
        "        self.order_history.append(order)\n",
        "\n",
        "    def __str__(self):\n",
        "        return f\"Имя: {self.name}\"\n",
        "\n",
        "\n",
        "class ShoppingCart:\n",
        "    def __init__(self):\n",
        "        self.stuff = {}\n",
        "\n",
        "    def add_stuff(self, product, quantity):\n",
        "        if product.is_available(quantity):\n",
        "            if product.name in self.stuff:\n",
        "                self.stuff[product.name] += quantity\n",
        "            else:\n",
        "                self.stuff[product.name] = quantity\n",
        "            product.update_stock(quantity)\n",
        "            return f\"{quantity} штук {product.name} добавлено в корзину\"\n",
        "        else:\n",
        "            return f\"Недостаточно товара '{product.name}' на складе\"\n",
        "\n",
        "    def remov_from_cart(self, product_name, quantity):\n",
        "        if product_name in self.stuff:\n",
        "            if self.stuff[product_name] > quantity:\n",
        "                self.stuff[product_name] -= quantity\n",
        "                if self.stuff[product_name] == 0:\n",
        "                    del self.stuff[product_name]\n",
        "                return f\"{quantity} штук {product_name} удалено из корзины\"\n",
        "            else:\n",
        "                del self.stuff[product_name]\n",
        "                return f\"{product_name} удален из корзины\"\n",
        "        else:\n",
        "            return \"Товар отсутствует\"\n",
        "\n",
        "\n",
        "class Order:\n",
        "    tax = 0.1\n",
        "\n",
        "    def __init__(self, shopping_cart, customer):\n",
        "        self.shopping_cart = shopping_cart\n",
        "        self.customer = customer\n",
        "\n",
        "    def calculate_total(self):\n",
        "        total = 0\n",
        "        for product_name, quantity in self.shopping_cart.stuff.items():\n",
        "            product_price = products[product_name].price\n",
        "            total += product_price * quantity\n",
        "        total *= (1 + Order.tax)\n",
        "        return total\n",
        "\n",
        "    def clear_cart(self):\n",
        "        self.shopping_cart.stuff.clear()\n",
        "        return \"Корзина очищена.\"\n",
        "\n",
        "\n",
        "products = {\n",
        "    \"Корнишоны\": Product(\"Корнишоны\",253,530,\"еда\"),\n",
        "    \"Спрайт\": Product(\"Спрайт\", 60, 10, \"напитки\"),\n",
        "}\n",
        "\n",
        "customer = Customer(\"Петр\",\"+79991343242\",\"22883423223990923\")\n",
        "cart = ShoppingCart()\n",
        "\n",
        "print(cart.add_stuff(products[\"Корнишоны\"], 5))\n",
        "print(cart.add_stuff(products[\"Спрайт\"], 1))\n",
        "\n",
        "order = Order(cart, customer)\n",
        "\n",
        "print(f\"Общая стоимость заказа: {order.calculate_total():.2f} руб\")\n",
        "print(order.clear_cart())"
      ],
      "metadata": {
        "id": "wkCcv_K-Bwdv",
        "colab": {
          "base_uri": "https://localhost:8080/"
        },
        "outputId": "aa1023e6-9d3e-42c6-f8b9-fae4930cf0d0"
      },
      "execution_count": null,
      "outputs": [
        {
          "output_type": "stream",
          "name": "stdout",
          "text": [
            "5 штук Корнишоны добавлено в корзину\n",
            "1 штук Спрайт добавлено в корзину\n",
            "Общая стоимость заказа: 1457.50 руб\n",
            "Корзина очищена.\n"
          ]
        }
      ]
    },
    {
      "cell_type": "markdown",
      "source": [
        "# Задание 4"
      ],
      "metadata": {
        "id": "ih7iPlYfB7lL"
      }
    },
    {
      "cell_type": "markdown",
      "source": [
        "Симулятор космического корабля:\n",
        "- Создайте симулятор управления космическим кораблем с классами SpaceShip, CrewMember, и Mission.\n",
        "- SpaceShip имеет атрибуты для управления топливом, состоянием корпуса, и текущей скоростью.\n",
        "- CrewMember контролирует здоровье, навыки, и роли в команде (например, пилот, инженер).\n",
        "- Mission определяет цели, ресурсы, и возможные события (например, аварии, встречи с астероидами)."
      ],
      "metadata": {
        "id": "zLwqVCbpCBvc"
      }
    },
    {
      "cell_type": "code",
      "source": [
        "class SpaceShip:\n",
        "    def __init__(self, fuel, hull_condition, speed):\n",
        "        self.fuel = fuel\n",
        "        self.hull_condition = hull_condition\n",
        "        self.speed = speed\n",
        "\n",
        "    def refuel(self, amount):\n",
        "        self.fuel += amount\n",
        "        return f\"Корабль заправлен на {amount} единиц топлива\"\n",
        "\n",
        "    def update_speed(self, new_speed):\n",
        "        self.speed = new_speed\n",
        "        return f\"Cкорость корабля изменена на {self.speed}\"\n",
        "\n",
        "    def check_status(self):\n",
        "        return f\"Топливо {self.fuel}, cостояние корпуса {self.hull_condition},\\\n",
        " cкорость {self.speed}\"\n",
        "\n",
        "\n",
        "class CrewMember:\n",
        "    def __init__(self, name, health, skills, role):\n",
        "        self.name = name\n",
        "        self.health = health\n",
        "        self.skills = skills\n",
        "        self.role = role\n",
        "\n",
        "    def perform_skill(self):\n",
        "        return f\"{self.name} выполняет навык {self.skills}\"\n",
        "\n",
        "    def take_damage(self, damage):\n",
        "        self.health -= damage\n",
        "        return (f\"{self.name} получил {damage} урона,\\\n",
        " текущее здоровье {self.health}\")\n",
        "\n",
        "\n",
        "class Mission:\n",
        "    def __init__(self, goals, resources, events):\n",
        "        self.goals = goals\n",
        "        self.resources = resources\n",
        "        self.events = events\n",
        "\n",
        "    def start_mission(self):\n",
        "        return f\"Миссия началась {self.goals} ресурсы {self.resources}\"\n",
        "\n",
        "    def trigger_event(self, event):\n",
        "        if event in self.events:\n",
        "            return f\"Событие произошло {event}\"\n",
        "        else:\n",
        "            return f\"Непредвиденное событие {event}\"\n",
        "\n",
        "\n",
        "spaceship = SpaceShip(100,'нормальное', 10)\n",
        "crew_member = CrewMember(\"Алекс\", 100, \"пилотирование\",\"пилот\")\n",
        "mission = Mission(\"Исследование Марса\",\"nопливо, еда\",\\\n",
        "[\"встреча с МКС\", \"поломка оборудования\"])\n",
        "\n",
        "print(spaceship.check_status())\n",
        "print(crew_member.perform_skill())\n",
        "print(mission.start_mission())\n",
        "print(mission.trigger_event(\"Столкновение с планетой\"))\n",
        "print(spaceship.refuel(50))\n",
        "print(spaceship.update_speed(10))"
      ],
      "metadata": {
        "id": "4NyrOOy8B9ED",
        "colab": {
          "base_uri": "https://localhost:8080/"
        },
        "outputId": "e69a9062-1d97-45cf-ae64-8ebd60d4b3f8"
      },
      "execution_count": null,
      "outputs": [
        {
          "output_type": "stream",
          "name": "stdout",
          "text": [
            "Топливо 100, cостояние корпуса нормальное, cкорость 10\n",
            "Алекс выполняет навык пилотирование\n",
            "Миссия началась Исследование Марса ресурсы nопливо, еда\n",
            "Непредвиденное событие Столкновение с планетой\n",
            "Корабль заправлен на 50 единиц топлива\n",
            "Cкорость корабля изменена на 10\n"
          ]
        }
      ]
    },
    {
      "cell_type": "markdown",
      "source": [
        "# Дополнительно:"
      ],
      "metadata": {
        "id": "F7mRVsZjCXk0"
      }
    },
    {
      "cell_type": "markdown",
      "source": [
        "**Описание:** создайте консольную версию игры крестики-нолики, используя классы"
      ],
      "metadata": {
        "id": "X4Lkf86UCc1h"
      }
    },
    {
      "cell_type": "code",
      "source": [],
      "metadata": {
        "id": "x9OxpNsyCcUo"
      },
      "execution_count": null,
      "outputs": []
    }
  ]
}