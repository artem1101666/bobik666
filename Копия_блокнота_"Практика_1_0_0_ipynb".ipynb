{
  "nbformat": 4,
  "nbformat_minor": 0,
  "metadata": {
    "colab": {
      "provenance": [],
      "include_colab_link": true
    },
    "kernelspec": {
      "name": "python3",
      "display_name": "Python 3"
    },
    "language_info": {
      "name": "python"
    }
  },
  "cells": [
    {
      "cell_type": "markdown",
      "metadata": {
        "id": "view-in-github",
        "colab_type": "text"
      },
      "source": [
        "<a href=\"https://colab.research.google.com/github/artem1101666/bobik666/blob/main/%D0%9A%D0%BE%D0%BF%D0%B8%D1%8F_%D0%B1%D0%BB%D0%BE%D0%BA%D0%BD%D0%BE%D1%82%D0%B0_%22%D0%9F%D1%80%D0%B0%D0%BA%D1%82%D0%B8%D0%BA%D0%B0_1_0_0_ipynb%22.ipynb\" target=\"_parent\"><img src=\"https://colab.research.google.com/assets/colab-badge.svg\" alt=\"Open In Colab\"/></a>"
      ]
    },
    {
      "cell_type": "markdown",
      "source": [
        "ФИО:"
      ],
      "metadata": {
        "id": "fLDS5f_mCnPa"
      }
    },
    {
      "cell_type": "markdown",
      "source": [
        "# Задание (совместное с преподавателем)\n",
        "\n",
        "\n"
      ],
      "metadata": {
        "id": "-CSHUbWzCqeM"
      }
    },
    {
      "cell_type": "markdown",
      "source": [
        "Напишите систему для учёта отпусков с возможностью узнавать, сколько дней отпуска осталось у того или иного сотрудника.\n",
        "Для этого создайте класс Employee со следующими методами:\n",
        "\n",
        "- Метод consume_vacation должен отвечать за списание дней отпуска.\n",
        "\n",
        "Единственный параметр этого метода (кроме self) — количество потраченных отпускных дней (целое число).\n",
        "\n",
        "При вызове метода consume_vacation соответствующее количество дней должно вычитаться из общего числа доступных отпускных дней сотрудника.\n",
        "\n",
        "Чтобы определить число доступных отпускных дней конкретного сотрудника, в классе опишите атрибут экземпляра |, который по умолчанию будет равен значению атрибута класса vacation_days, и используйте этот атрибут в работе метода.\n",
        "\n",
        "- Метод get_vacation_details должен возвращать остаток отпускных дней сотрудника в формате: ```Остаток отпускных дней: <число>.```\n",
        "\n",
        "\n",
        "Чтобы проверить работу программы:\n",
        "1. Создайте экземпляр класса Employee.\n",
        "2. Вызовите метод consume_vacation, указав подходящее значение аргумента, например 7.\n",
        "3. Вызовите метод get_vacation_details."
      ],
      "metadata": {
        "id": "a_flBjZOCwYz"
      }
    },
    {
      "cell_type": "code",
      "source": [
        "class Employee:\n",
        "    # количество дней отпуска, атрибут для каждого объекта класса\n",
        "    vacation_days = 28\n",
        "\n",
        "    def __init__(self, first_name, second_name, gender):\n",
        "        self.first_name = first_name # имя\n",
        "        self.second_name = second_name # фамилия\n",
        "        self.gender = gender # пол\n",
        "        self.remaining_vacation_days = self.vacation_days # количество доступных дней отпуска\n",
        "\n",
        "\n",
        "    # вычитание отгуляных дней\n",
        "    def consume_vacation(self, days):\n",
        "        self.remaining_vacation_days -= days\n",
        "\n",
        "    # Вывод информации об отпуске\n",
        "    def vacation_details(self):\n",
        "        return f\"Остаток отпускных дней: {self.remaining_vacation_days}.\"\n",
        "\n",
        "\n"
      ],
      "metadata": {
        "id": "G4bUraN4CwBI"
      },
      "execution_count": null,
      "outputs": []
    },
    {
      "cell_type": "code",
      "source": [
        "employee = Employee('Олег', \"Крутой\", \"м\", \"4\")\n",
        "employee2 = Employee('Олег', \"не очень Крутой\", \"м\", \"3\")\n",
        "print('='*20,'\\n',\n",
        "      employee.first_name,'\\n',\n",
        "      employee.second_name,'\\n',\n",
        "      employee.amount_of_limbs,'\\n',\n",
        "      employee.remaining_vacation_days,'\\n',\n",
        "      '='*20,'\\n'\n",
        "      )\n",
        "\n",
        "print('='*20,'\\n',\n",
        "      employee2.first_name,'\\n',\n",
        "      employee2.second_name,'\\n',\n",
        "      employee2.amount_of_limbs,'\\n',\n",
        "      employee2.remaining_vacation_days,'\\n',\n",
        "      '='*20,'\\n'\n",
        "      )\n",
        "\n",
        "print('Олег Крутой в Майами на 10 дней')\n",
        "employee.consume_vacation(10)\n",
        "print('Олег не очень Крутой в Сыктывкар на 4 дней')\n",
        "employee2.consume_vacation(4)\n",
        "\n",
        "\n",
        "print('='*20,'\\n',\n",
        "      employee.first_name,'\\n',\n",
        "      employee.second_name,'\\n',\n",
        "      employee.amount_of_limbs,'\\n',\n",
        "      employee.vacation_details(),'\\n',\n",
        "      '='*20,'\\n'\n",
        "      )\n",
        "\n",
        "print('='*20,'\\n',\n",
        "      employee2.first_name,'\\n',\n",
        "      employee2.second_name,'\\n',\n",
        "      employee2.amount_of_limbs,'\\n',\n",
        "      employee2.vacation_details(),'\\n',\n",
        "      '='*20,'\\n'\n",
        "      )"
      ],
      "metadata": {
        "colab": {
          "base_uri": "https://localhost:8080/"
        },
        "id": "7RYpjrFZE2es",
        "outputId": "56fa3dfb-beba-4af1-b71f-6c46f2cf6231"
      },
      "execution_count": null,
      "outputs": [
        {
          "output_type": "stream",
          "name": "stdout",
          "text": [
            "==================== \n",
            " Олег \n",
            " Крутой \n",
            " 4 \n",
            " 28 \n",
            " ==================== \n",
            "\n",
            "==================== \n",
            " Олег \n",
            " не очень Крутой \n",
            " 3 \n",
            " 28 \n",
            " ==================== \n",
            "\n",
            "Олег Крутой в Майами на 10 дней\n",
            "Олег не очень Крутой в Сыктывкар на 4 дней\n",
            "==================== \n",
            " Олег \n",
            " Крутой \n",
            " 4 \n",
            " Остаток отпускных дней: 18. \n",
            " ==================== \n",
            "\n",
            "==================== \n",
            " Олег \n",
            " не очень Крутой \n",
            " 3 \n",
            " Остаток отпускных дней: 24. \n",
            " ==================== \n",
            "\n"
          ]
        }
      ]
    },
    {
      "cell_type": "markdown",
      "source": [
        "# Задание 1"
      ],
      "metadata": {
        "id": "8XGka5GtEBK1"
      }
    },
    {
      "cell_type": "markdown",
      "source": [
        "Задание:\n",
        "\n",
        "Создайте класс с именем Rectangle который имеет:\n",
        "- Атрибуты ширины и высоты.\n",
        "- Метод расчета площади.\n",
        "- Метод расчета периметра.\n",
        "- Метод отображения размеров прямоугольника.\n",
        "\n",
        "Создайте экземпляр класса Rectangleи продемонстрируйте его функциональность."
      ],
      "metadata": {
        "id": "jQ4qqd8nEZBY"
      }
    },
    {
      "cell_type": "code",
      "source": [
        "class Rectangle:\n",
        "\n",
        "    def __init__(self, width, high):\n",
        "        self.width = width\n",
        "        self.high = high\n",
        "\n",
        "    def area_calculation_method(self):\n",
        "        return self.width * self.high\n",
        "\n",
        "    def perimeter_calculation_method(self):\n",
        "        return 2 * (self.width + self.high)\n",
        "\n",
        "    def method_for_displaying_rectangle_dimensions(self):\n",
        "        return (f\"Высота={self.high}, \"\n",
        "                f\"ширина={self.width}, \"\n",
        "                f\"площадь={self.area_calculation_method()}, \"\n",
        "                f\"периметр={self.perimeter_calculation_method()}\")\n",
        "\n",
        "my_rectangle = Rectangle(29, 42)\n",
        "print(my_rectangle.method_for_displaying_rectangle_dimensions())\n"
      ],
      "metadata": {
        "id": "dG6uNPqTEAvt",
        "colab": {
          "base_uri": "https://localhost:8080/"
        },
        "outputId": "444866cb-33af-42f4-a1d5-5f6c38fa5a8a"
      },
      "execution_count": null,
      "outputs": [
        {
          "output_type": "stream",
          "name": "stdout",
          "text": [
            "Высота=42, ширина=29, площадь=1218, периметр=142\n"
          ]
        }
      ]
    },
    {
      "cell_type": "markdown",
      "source": [
        "# Задание 2"
      ],
      "metadata": {
        "id": "0ct1u6lqE73j"
      }
    },
    {
      "cell_type": "markdown",
      "source": [
        "Задание: Создайте мини версию банковской системы:\n",
        "\n",
        "\n",
        "Инструкции:\n",
        "\n",
        "1. Создайте класс BankAccountсо следующими атрибутами:\n",
        "    - account_holder -  владелец счета\n",
        "    - balance - баланс счета\n",
        "\n",
        "2. Реализуйте следующие методы:\n",
        "    - Метод для инициализации владельца счета: имя владельца счета и установите начальный баланс на 0.\n",
        "    - deposit(amount): Добавьте указанную сумму к балансу.\n",
        "    - withdraw(amount): Вычесть указанную сумму из баланса, если средств достаточно; в противном случае вывести предупреждение.\n",
        "    - get_balance(): Возврат текущего баланса.\n",
        "\n",
        "\n",
        "Создайте объект класса и продемонстрируйте его возможности"
      ],
      "metadata": {
        "id": "FOpIpcLxE-WK"
      }
    },
    {
      "cell_type": "code",
      "source": [
        "class BankAccountсо:\n",
        "\n",
        "    def __init__(self,account_holder,balance=0):\n",
        "        self.account_holder=account_holder\n",
        "        self.balance=balance\n",
        "\n",
        "    def start(self,name):\n",
        "        self.account_holder=name\n",
        "        self.balance=0\n",
        "\n",
        "    def change(self,amount):\n",
        "        print(\"Выберете действие\")\n",
        "        print(\"1-deposit\")\n",
        "        print(\"2-withdraw\")\n",
        "        choice=input(\"1 или 2? \")\n",
        "        if choice==\"1\":\n",
        "            self.balance+=amount\n",
        "        elif choice==\"2\":\n",
        "            self.balance-=amount\n",
        "        else:\n",
        "            print(\"Введите коректную цифру\")\n",
        "\n",
        "    def get_balance(self):\n",
        "        return f\"Ваш баланс={self.balance}\"\n",
        "\n",
        "    def main(self):\n",
        "        self.change(int(input(\"Введите сумму для операций: \")))\n",
        "        return (f\"Владелец счета: {self.account_holder}\\n\"\n",
        "                f\"Баланс счета: {self.get_balance()}\")\n",
        "\n",
        "name = input(\"Введите имя владельца: \")\n",
        "user = BankAccountсо(name)\n",
        "print(user.main())"
      ],
      "metadata": {
        "id": "WWXNIUrCE99W",
        "colab": {
          "base_uri": "https://localhost:8080/"
        },
        "outputId": "1fb25a15-4abd-4fe2-e635-a95375f5016c"
      },
      "execution_count": null,
      "outputs": [
        {
          "output_type": "stream",
          "name": "stdout",
          "text": [
            "Введите имя владельца: 1asfaf\n",
            "Введите сумму для операций: 12312\n",
            "Выберете действие\n",
            "1-deposit\n",
            "2-withdraw\n",
            "1 или 2?1\n",
            "Владелец счета: 1asfaf\n",
            "Баланс счета: Ваш баланс=12312\n"
          ]
        }
      ]
    },
    {
      "cell_type": "markdown",
      "source": [
        "# Задание 3"
      ],
      "metadata": {
        "id": "C5DX5Uf2FfP6"
      }
    },
    {
      "cell_type": "markdown",
      "source": [
        "Возьмите код и задание (Рыцарь и дракон) из предыдущей практики и реализуйте его с применением классов"
      ],
      "metadata": {
        "id": "0cR-MYepFgz6"
      }
    },
    {
      "cell_type": "code",
      "source": [
        "import random\n",
        "\n",
        "\n",
        "class Story:\n",
        "\tplot = \"\"\"В далеком королевстве, где магия и реальность переплетаются\n",
        "самым причудливым образом,появился новый герой. Ему предстоит сразиться\n",
        "с тремя легендарными драконами, которые терроризируют местных жителей.\n",
        "Каждая победа над драконом делает героя сильнее,но и поражение может стоить\n",
        "ему жизни. Удачи, храбрый воин!\"\"\"\n",
        "\n",
        "\tdef tell_story():\n",
        "\t\tprint(Story.plot)\n",
        "\n",
        "\n",
        "class Knight:\n",
        "\tdef __init__(self, name, HP, damage):\n",
        "\t\tself.name = name\n",
        "\t\tself.HP = HP\n",
        "\t\tself.damage = damage\n",
        "\n",
        "\tdef take_damage(self, damage):\n",
        "\t\tself.HP-= damage\n",
        "\n",
        "\tdef alive(self):\n",
        "\t\treturn self.HP > 0\n",
        "\n",
        "\tdef increase_stats(self, amount):\n",
        "\t\tself.HP += amount\n",
        "\t\tself.damage += amount\n",
        "\n",
        "\tdef characteristics(self):\n",
        "\t\treturn f\"{self.name} урон={self.damage}, здоровье={self.HP}\"\n",
        "\n",
        "\n",
        "class Dragon:\n",
        "\tdef __init__(self, name, HP, damage, reward):\n",
        "\t\tself.name = name\n",
        "\t\tself.HP = HP\n",
        "\t\tself.damage = damage\n",
        "\t\tself.reward = reward\n",
        "\t\tself.initial_HP = HP\n",
        "\n",
        "\tdef take_damage(self, damage):\n",
        "\t\tself.HP -= damage\n",
        "\n",
        "\tdef is_alive(self):\n",
        "\t\treturn self.HP > 0\n",
        "\n",
        "\tdef reset_hp(self):\n",
        "\t\tself.HP = self.initial_HP\n",
        "\n",
        "\tdef characteristics(self):\n",
        "\t\treturn f\"{self.name} урон={self.damage}, здоровье={self.HP}\"\n",
        "\n",
        "\n",
        "class Game:\n",
        "\tdef __init__(self):\n",
        "\t\tself.weapons = {\n",
        "\t\t\t\"1\": \"Меч бога из майнкрафта\",\n",
        "\t\t\t\"2\": \"Копьё phantom lancera\",\n",
        "\t\t\t\"3\": \"Булава Ильи Муромца\",\n",
        "\t\t\t\"4\": \"Лук с грядки\",\n",
        "\t\t\t\"5\": \"Палка копалка\"\n",
        "\t\t}\n",
        "\t\tself.outfits = {\n",
        "\t\t\t\"1\": \"Доспехи\",\n",
        "\t\t\t\"2\": \"Костюм шута\",\n",
        "\t\t\t\"3\": \"Майка алоголичка\",\n",
        "\t\t\t\"4\": \"Халат врача\",\n",
        "\t\t\t\"5\": \"Четкий костюм адидас\",\n",
        "\t\t\t\"6\": \"Розовый костюм Зубенко Михаила Петровича\"\n",
        "\t\t}\n",
        "\t\tself.create_dragons()\n",
        "\n",
        "\tdef create_dragons(self):\n",
        "\t\tself.dragons = []\n",
        "\n",
        "\t\tdef add_dragon(name, hp, damage, reward):\n",
        "\t\t\tself.dragons.append(Dragon(name, hp, damage, reward))\n",
        "\n",
        "\t\tadd_dragon(\"aboba непобедимый\", 1000, 1000, 100)\n",
        "\t\tadd_dragon(\"Просто лягушка\", 2, 0, 1)\n",
        "\t\tadd_dragon(\"Смачный дракон\", 80, 60, 10)\n",
        "\n",
        "\tdef create_custom_knight(self):\n",
        "\t\tprint(\"Давайте придумаем имя для вашего героя\")\n",
        "\t\tname = input(\"Введите имя рыцаря: \")\n",
        "\n",
        "\t\tprint(\"Выберите доступное оружие:\")\n",
        "\t\tfor key, weapon in self.weapons.items():\n",
        "\t\t\tprint(f\"{key}-{weapon}\")\n",
        "\t\tprint('Выбор ни на что не влияет урон через рандом )')\n",
        "\t\tweapon = self.weapons.get(input(\"Введите выбранную цифру: \"))\n",
        "\n",
        "\t\tprint(\"Давайте приоденем нашего воина на выбор есть:\")\n",
        "\t\tfor key, outfit in self.outfits.items():\n",
        "\t\t\tprint(f\"{key}-{outfit}\")\n",
        "\t\tprint(\"Этот выбор тоже не решает ничего\")\n",
        "\t\toutfit = self.outfits.get(input(\"Выберите желанный мегасет: \"))\n",
        "\n",
        "\t\thp = random.choice([100, 200, 391, 133, 123, 343, 666, 777, 847, 1])\n",
        "\t\tdamage = random.choice([10, 20, 30, 13, 12, 53, 23, 65, 77, 100, 54])\n",
        "\n",
        "\t\treturn Knight(name, hp, damage)\n",
        "\n",
        "\tdef random_knight(self):\n",
        "\t\tnames = [\"Бобик тихий\", \"Настя мирная\", \"Артем Дронов\", \"Богдан Бикаев\"]\n",
        "\t\tname = random.choice(names)\n",
        "\t\thp = random.choice([100, 200, 391, 133, 123, 343, 666, 777, 847, 1])\n",
        "\t\tdamage = random.choice([10, 20, 30, 13, 12, 53, 23, 65, 77, 100, 54])\n",
        "\t\treturn Knight(name, hp, damage)\n",
        "\n",
        "\tdef create_knight(self):\n",
        "\t\tprint(\"Создайте своего рыцаря или воспользуйтесь рандомом\")\n",
        "\t\tprint(\"Все характеристики будут выставлены случайным образом\")\n",
        "\t\tprint(\"Если хотите создать сами выберите цифру 1,\\\n",
        "если нет то 2\")\n",
        "\n",
        "\t\tchoice = input(\"Введите цифру сюда: \")\n",
        "\t\tif choice == \"1\":\n",
        "\t\t\tknight = self.create_custom_knight()\n",
        "\t\telse:\n",
        "\t\t\tknight = self.random_knight()\n",
        "\t\treturn knight\n",
        "\n",
        "\tdef fight(self):\n",
        "\t\tStory.tell_story()\n",
        "\t\tknight = self.create_knight()\n",
        "\n",
        "\t\twhile True:\n",
        "\t\t\tprint(knight.characteristics())\n",
        "\t\t\tprint(\"Выберите себе противника\")\n",
        "\t\t\tprint(\"1-\" + str(self.dragons[0].characteristics()))\n",
        "\t\t\tprint(\"2-\" + str(self.dragons[1].characteristics()))\n",
        "\t\t\tprint(\"3-\" + str(self.dragons[2].characteristics()))\n",
        "\n",
        "\t\t\tchoice = int(input(\"Выбирайте с умом, смерть влечет потерю прогресса: \"))\n",
        "\n",
        "\t\t\tif 0 <= choice < len(self.dragons):\n",
        "\t\t\t\tdragon = self.dragons[choice]\n",
        "\t\t\t\tdragon.take_damage(knight.damage)\n",
        "\n",
        "\t\t\t\tif not dragon.is_alive():\n",
        "\t\t\t\t\tprint(f\"Вы победили {dragon.name}\")\n",
        "\t\t\t\t\tprint(f\"Ваши характеристики увеличились на {dragon.reward} ед\")\n",
        "\t\t\t\t\tknight.increase_stats(dragon.reward)\n",
        "\t\t\t\t\tdragon.reset_hp()\n",
        "\t\t\t\telse:\n",
        "\t\t\t\t\tknight.take_damage(dragon.damage)\n",
        "\t\t\t\t\tif not knight.alive():\n",
        "\t\t\t\t\t\tprint(\"Вы проиграли, прогресс будет сброшен\")\n",
        "\t\t\t\t\t\tbreak\n",
        "\n",
        "\n",
        "if __name__ == \"__main__\":\n",
        "\tgame = Game()\n",
        "\tgame.fight()"
      ],
      "metadata": {
        "id": "Oz9BZbhAFwua",
        "colab": {
          "base_uri": "https://localhost:8080/"
        },
        "outputId": "f1ca619f-12a2-4222-873c-2412791e6a7f"
      },
      "execution_count": null,
      "outputs": [
        {
          "output_type": "stream",
          "name": "stdout",
          "text": [
            "В далеком королевстве, где магия и реальность переплетаются\n",
            "самым причудливым образом,появился новый герой. Ему предстоит сразиться\n",
            "с тремя легендарными драконами, которые терроризируют местных жителей.\n",
            "Каждая победа над драконом делает героя сильнее,но и поражение может стоить\n",
            "ему жизни. Удачи, храбрый воин!\n",
            "Создайте своего рыцаря или воспользуйтесь рандомом\n",
            "Все характеристики будут выставлены случайным образом\n",
            "Если хотите создать сами выберите цифру 1,если нет то 2\n",
            "Введите цифру сюда: 2\n",
            "Богдан Бикаев урон=77, здоровье=847\n",
            "Выберите себе противника\n",
            "1-aboba непобедимый урон=1000, здоровье=1000\n",
            "2-Просто лягушка урон=0, здоровье=2\n",
            "3-Смачный дракон урон=60, здоровье=80\n",
            "Выбирайте с умом, смерть влечет потерю прогресса: 1\n",
            "Вы победили Просто лягушка\n",
            "Ваши характеристики увеличились на 1 ед\n",
            "Богдан Бикаев урон=78, здоровье=848\n",
            "Выберите себе противника\n",
            "1-aboba непобедимый урон=1000, здоровье=1000\n",
            "2-Просто лягушка урон=0, здоровье=2\n",
            "3-Смачный дракон урон=60, здоровье=80\n",
            "Выбирайте с умом, смерть влечет потерю прогресса: 3\n",
            "Богдан Бикаев урон=78, здоровье=848\n",
            "Выберите себе противника\n",
            "1-aboba непобедимый урон=1000, здоровье=1000\n",
            "2-Просто лягушка урон=0, здоровье=2\n",
            "3-Смачный дракон урон=60, здоровье=80\n",
            "Выбирайте с умом, смерть влечет потерю прогресса: 2\n",
            "Богдан Бикаев урон=78, здоровье=788\n",
            "Выберите себе противника\n",
            "1-aboba непобедимый урон=1000, здоровье=1000\n",
            "2-Просто лягушка урон=0, здоровье=2\n",
            "3-Смачный дракон урон=60, здоровье=2\n"
          ]
        }
      ]
    },
    {
      "cell_type": "markdown",
      "source": [],
      "metadata": {
        "id": "o7qGOyjTZHH9"
      }
    },
    {
      "cell_type": "markdown",
      "source": [
        "# Дополнительное задание\n"
      ],
      "metadata": {
        "id": "b_mJHXcQGI9t"
      }
    },
    {
      "cell_type": "markdown",
      "source": [
        "Задача: Система управления библиотекой\n",
        "\n",
        "**Цель**\n",
        "Создайте простую систему управления библиотекой, которая позволит пользователям добавлять книги, брать книги, возвращать книги и просматривать список доступных книг.\n",
        "\n",
        "**Требования**\n",
        "\n",
        "1. **Определение класса**:\n",
        "   – Создайте класс с именем «Book» со следующими атрибутами:\n",
        "     - `title`\n",
        "     - `автор`\n",
        "     - `isbn`\n",
        "     - `is_borrowed` (по умолчанию `False`)\n",
        "\n",
        "2. **Класс библиотеки**:\n",
        "   - Создайте класс с именем Library, который управляет коллекцией книг.\n",
        "   - Класс должен иметь следующие методы:\n",
        "     - `__init__(self)`: инициализирует пустой список книг.\n",
        "     - `add_book(self, book: Book)`: добавляет новую книгу в библиотеку.\n",
        "     - `borrow_book(self, isbn: str)`: помечает книгу как заимствованную. Если книга не найдена или уже взята, выведите соответствующее сообщение.\n",
        "     - `return_book(self, isbn: str)`: помечает книгу как возвращенную. Если книга не найдена или не была взята взаймы, выведите соответствующее сообщение.\n",
        "     - `list_available_books(self)`: печатает список всех доступных книг в библиотеке.\n",
        "     - `find_book(self, isbn: str)`: возвращает объект книги, если он найден, в противном случае возвращает `None`.\n",
        "\n",
        "3. **Взаимодействие с пользователем**:\n",
        "   - Создайте простое текстовое меню, которое позволит пользователям:\n",
        "     - Добавить книгу\n",
        "     - Одолжить книгу\n",
        "     - Вернуть книгу\n",
        "     - Список доступных книг\n",
        "     - Выйти из программы"
      ],
      "metadata": {
        "id": "pnIUdFPcGOVL"
      }
    },
    {
      "cell_type": "code",
      "source": [],
      "metadata": {
        "id": "GKKmdfN8GL6f"
      },
      "execution_count": null,
      "outputs": []
    }
  ]
}