{
  "cells": [
    {
      "cell_type": "markdown",
      "metadata": {
        "id": "view-in-github",
        "colab_type": "text"
      },
      "source": [
        "<a href=\"https://colab.research.google.com/github/artem1101666/bobik666/blob/main/%D0%9A%D0%BE%D0%BF%D0%B8%D1%8F_%D0%B1%D0%BB%D0%BE%D0%BA%D0%BD%D0%BE%D1%82%D0%B0_%22%D0%9F%D1%80%D0%B0%D0%BA%D1%82%D0%B8%D0%BA%D0%B0_0_8_0_ipynb%22.ipynb\" target=\"_parent\"><img src=\"https://colab.research.google.com/assets/colab-badge.svg\" alt=\"Open In Colab\"/></a>"
      ]
    },
    {
      "cell_type": "code",
      "execution_count": null,
      "metadata": {
        "id": "6lSABiH7Ic5U"
      },
      "outputs": [],
      "source": [
        "Синцов Артемий Владимирович"
      ]
    },
    {
      "cell_type": "markdown",
      "metadata": {
        "id": "ra45s33wUt-C"
      },
      "source": [
        "# Задание 1"
      ]
    },
    {
      "cell_type": "markdown",
      "metadata": {
        "id": "G56D5mNCUwp5"
      },
      "source": [
        "Задача: Создать чат бота для получения информации об исследованиях космоса\n",
        "\n",
        "Описание: Создайте комплексное приложение командной строки, которое будет использоваться в качестве панели управления исследованиями космоса. Данное приложение будет обращаться к https://api.nasa.gov/ для предоставления пользователям набора информации о космосе, включая:\n",
        "\n",
        "- Астрономическая картинка дня (APOD): Отображение APOD с пояснениями к нему.\n",
        "- Фотографии с марсохода: позволяет пользователям выбирать и фильтровать фотографии с марсохода по дате и типу камеры.\n",
        "- Объекты, сближающиеся с Землей (ОСЗ): Поиск и отображение информации об объекте, сближающихся с Землей, на определенную дату, включая их размеры и потенциальную опасность.\n",
        "- Данные о космической погоде: Отображают последние данные о космической погоде, включая солнечные вспышки и геомагнитные бури.\n",
        "Приложение должно позволять пользователям ориентироваться в этих функциях, корректно обрабатывать ошибки и обеспечивать удобство работы.\n",
        "\n",
        "Требования:\n",
        "- Пользовательский ввод: Приложение должно предложить пользователю ввести данные, чтобы выбрать, какую функцию он хочет изучить.\n",
        "- Проверка данных: Убедитесь, что пользовательские данные (например, даты) проверены.\n",
        "- Обработка ошибок: Корректно обрабатывайте ошибки API и неверные ответы.\n",
        "- Представление данных: Представляйте данные в четкой и организованной форме.\n",
        "- Опция выхода: позволяет пользователям выходить из приложения в любое время."
      ]
    },
    {
      "cell_type": "code",
      "execution_count": null,
      "metadata": {
        "id": "IPIjkUtSD6Fk"
      },
      "outputs": [],
      "source": []
    },
    {
      "cell_type": "code",
      "execution_count": null,
      "metadata": {
        "colab": {
          "base_uri": "https://localhost:8080/",
          "height": 639
        },
        "id": "wGeJM9n4UqUD",
        "outputId": "ba1f14ba-7c2f-4870-ad63-7835a25ff878"
      },
      "outputs": [
        {
          "name": "stdout",
          "output_type": "stream",
          "text": [
            "\n",
            "Выберите функцию\n",
            "1 - Получить APOD\n",
            "2 - Получить фото с марсохода\n",
            "3 - Найти объекты, сближающиеся с Землей\n",
            "4 - Получить данные о космической погоде\n",
            "5 - Завершить работу\n",
            "Введите выбранную цифру сюда: 3\n",
            "Введите начальную дату  ГГГГ-ММ-ДД2011-12-11\n",
            "Введите конечную дату  ГГГГ-ММ-ДД2024-12-11\n",
            "Ошибка: 400\n",
            "\n",
            "Выберите функцию\n",
            "1 - Получить APOD\n",
            "2 - Получить фото с марсохода\n",
            "3 - Найти объекты, сближающиеся с Землей\n",
            "4 - Получить данные о космической погоде\n",
            "5 - Завершить работу\n"
          ]
        },
        {
          "ename": "KeyboardInterrupt",
          "evalue": "Interrupted by user",
          "output_type": "error",
          "traceback": [
            "\u001b[0;31m---------------------------------------------------------------------------\u001b[0m",
            "\u001b[0;31mKeyboardInterrupt\u001b[0m                         Traceback (most recent call last)",
            "\u001b[0;32m<ipython-input-32-60d77be967fa>\u001b[0m in \u001b[0;36m<cell line: 96>\u001b[0;34m()\u001b[0m\n\u001b[1;32m     95\u001b[0m \u001b[0;34m\u001b[0m\u001b[0m\n\u001b[1;32m     96\u001b[0m \u001b[0;32mif\u001b[0m \u001b[0m__name__\u001b[0m \u001b[0;34m==\u001b[0m \u001b[0;34m\"__main__\"\u001b[0m\u001b[0;34m:\u001b[0m\u001b[0;34m\u001b[0m\u001b[0;34m\u001b[0m\u001b[0m\n\u001b[0;32m---> 97\u001b[0;31m     \u001b[0mmain\u001b[0m\u001b[0;34m(\u001b[0m\u001b[0;34m)\u001b[0m\u001b[0;34m\u001b[0m\u001b[0;34m\u001b[0m\u001b[0m\n\u001b[0m",
            "\u001b[0;32m<ipython-input-32-60d77be967fa>\u001b[0m in \u001b[0;36mmain\u001b[0;34m()\u001b[0m\n\u001b[1;32m     47\u001b[0m         \u001b[0mprint\u001b[0m\u001b[0;34m(\u001b[0m\u001b[0;34m'5 - Завершить работу'\u001b[0m\u001b[0;34m)\u001b[0m\u001b[0;34m\u001b[0m\u001b[0;34m\u001b[0m\u001b[0m\n\u001b[1;32m     48\u001b[0m \u001b[0;34m\u001b[0m\u001b[0m\n\u001b[0;32m---> 49\u001b[0;31m         \u001b[0moption\u001b[0m \u001b[0;34m=\u001b[0m \u001b[0minput\u001b[0m\u001b[0;34m(\u001b[0m\u001b[0;34m\"Введите выбранную цифру сюда: \"\u001b[0m\u001b[0;34m)\u001b[0m\u001b[0;34m\u001b[0m\u001b[0;34m\u001b[0m\u001b[0m\n\u001b[0m\u001b[1;32m     50\u001b[0m \u001b[0;34m\u001b[0m\u001b[0m\n\u001b[1;32m     51\u001b[0m         \u001b[0;32mif\u001b[0m \u001b[0moption\u001b[0m \u001b[0;34m==\u001b[0m \u001b[0;34m\"1\"\u001b[0m\u001b[0;34m:\u001b[0m\u001b[0;34m\u001b[0m\u001b[0;34m\u001b[0m\u001b[0m\n",
            "\u001b[0;32m/usr/local/lib/python3.10/dist-packages/ipykernel/kernelbase.py\u001b[0m in \u001b[0;36mraw_input\u001b[0;34m(self, prompt)\u001b[0m\n\u001b[1;32m    849\u001b[0m                 \u001b[0;34m\"raw_input was called, but this frontend does not support input requests.\"\u001b[0m\u001b[0;34m\u001b[0m\u001b[0;34m\u001b[0m\u001b[0m\n\u001b[1;32m    850\u001b[0m             )\n\u001b[0;32m--> 851\u001b[0;31m         return self._input_request(str(prompt),\n\u001b[0m\u001b[1;32m    852\u001b[0m             \u001b[0mself\u001b[0m\u001b[0;34m.\u001b[0m\u001b[0m_parent_ident\u001b[0m\u001b[0;34m,\u001b[0m\u001b[0;34m\u001b[0m\u001b[0;34m\u001b[0m\u001b[0m\n\u001b[1;32m    853\u001b[0m             \u001b[0mself\u001b[0m\u001b[0;34m.\u001b[0m\u001b[0m_parent_header\u001b[0m\u001b[0;34m,\u001b[0m\u001b[0;34m\u001b[0m\u001b[0;34m\u001b[0m\u001b[0m\n",
            "\u001b[0;32m/usr/local/lib/python3.10/dist-packages/ipykernel/kernelbase.py\u001b[0m in \u001b[0;36m_input_request\u001b[0;34m(self, prompt, ident, parent, password)\u001b[0m\n\u001b[1;32m    893\u001b[0m             \u001b[0;32mexcept\u001b[0m \u001b[0mKeyboardInterrupt\u001b[0m\u001b[0;34m:\u001b[0m\u001b[0;34m\u001b[0m\u001b[0;34m\u001b[0m\u001b[0m\n\u001b[1;32m    894\u001b[0m                 \u001b[0;31m# re-raise KeyboardInterrupt, to truncate traceback\u001b[0m\u001b[0;34m\u001b[0m\u001b[0;34m\u001b[0m\u001b[0m\n\u001b[0;32m--> 895\u001b[0;31m                 \u001b[0;32mraise\u001b[0m \u001b[0mKeyboardInterrupt\u001b[0m\u001b[0;34m(\u001b[0m\u001b[0;34m\"Interrupted by user\"\u001b[0m\u001b[0;34m)\u001b[0m \u001b[0;32mfrom\u001b[0m \u001b[0;32mNone\u001b[0m\u001b[0;34m\u001b[0m\u001b[0;34m\u001b[0m\u001b[0m\n\u001b[0m\u001b[1;32m    896\u001b[0m             \u001b[0;32mexcept\u001b[0m \u001b[0mException\u001b[0m \u001b[0;32mas\u001b[0m \u001b[0me\u001b[0m\u001b[0;34m:\u001b[0m\u001b[0;34m\u001b[0m\u001b[0;34m\u001b[0m\u001b[0m\n\u001b[1;32m    897\u001b[0m                 \u001b[0mself\u001b[0m\u001b[0;34m.\u001b[0m\u001b[0mlog\u001b[0m\u001b[0;34m.\u001b[0m\u001b[0mwarning\u001b[0m\u001b[0;34m(\u001b[0m\u001b[0;34m\"Invalid Message:\"\u001b[0m\u001b[0;34m,\u001b[0m \u001b[0mexc_info\u001b[0m\u001b[0;34m=\u001b[0m\u001b[0;32mTrue\u001b[0m\u001b[0;34m)\u001b[0m\u001b[0;34m\u001b[0m\u001b[0;34m\u001b[0m\u001b[0m\n",
            "\u001b[0;31mKeyboardInterrupt\u001b[0m: Interrupted by user"
          ]
        }
      ],
      "source": [
        "import requests\n",
        "\n",
        "def send_requests_apod(api_key):\n",
        "    url = f'https://api.nasa.gov/planetary/apod?api_key={api_key}'\n",
        "    reply = requests.get(url)\n",
        "    if reply.status_code == 200:\n",
        "        return reply.json()\n",
        "    else:\n",
        "        print(\"Ошибка:\", reply.status_code)\n",
        "        return None\n",
        "\n",
        "def send_requests_mars_photos(sol, camera, api_key):\n",
        "    url = f'https://api.nasa.gov/mars-photos/api/v1/rovers/curiosity/photos?sol={sol}&camera={camera}&api_key={api_key}'\n",
        "    reply = requests.get(url)\n",
        "    if reply.status_code == 200:\n",
        "        return reply.json()\n",
        "    else:\n",
        "        print(\"Ошибка:\", reply.status_code)\n",
        "        return None\n",
        "\n",
        "def send_requests_earth_objects(start_date, end_date, api_key):\n",
        "    url = f'https://api.nasa.gov/neo/rest/v1/feed?start_date={start_date}&end_date={end_date}&api_key={api_key}'\n",
        "    reply = requests.get(url)\n",
        "    if reply.status_code == 200:\n",
        "        return reply.json()\n",
        "    else:\n",
        "        print(\"Ошибка:\", reply.status_code)\n",
        "        return None\n",
        "\n",
        "def send_requests_space_weather():\n",
        "    url = 'https://services.swpc.noaa.gov/json/planetary_k_index.json'\n",
        "    reply = requests.get(url)\n",
        "    if reply.status_code == 200:\n",
        "        return reply.json()\n",
        "    else:\n",
        "        print(\"Ошибка:\", reply.status_code)\n",
        "        return None\n",
        "\n",
        "def main():\n",
        "    api_key = \"2xEPDZc95UDR289JsHGMY2uqssxcXBwGaovOnqT9\"\n",
        "    while True:\n",
        "        print(\"\\nВыберите функцию\")\n",
        "        print('1 - Получить APOD')\n",
        "        print('2 - Получить фото с марсохода')\n",
        "        print('3 - Найти объекты, сближающиеся с Землей')\n",
        "        print('4 - Получить данные о космической погоде')\n",
        "        print('5 - Завершить работу')\n",
        "\n",
        "        option = input(\"Введите выбранную цифру сюда: \")\n",
        "\n",
        "        if option == \"1\":\n",
        "            data1 = send_requests_apod(api_key)\n",
        "            if data1:\n",
        "                print(\"APOD\")\n",
        "                print(\"Название:\", data1['title'])\n",
        "                print(\"Описание:\", data1['explanation'])\n",
        "                print(\"Ссылка на изображение:\", data1['url'])\n",
        "\n",
        "        elif option == \"2\":\n",
        "            sol = input(\"Введите необходимый sol \")\n",
        "            camera = input(\"Выберите камеру\\\n",
        " (FHAZ, RHAZ, MAST, CHEMCAM, MAHLI, MARDI, NAVCAM, PANCAM, MINITES): \")\n",
        "            data2 = send_requests_mars_photos(sol, camera, api_key)\n",
        "            if data2 :\n",
        "                print(\"Фотографии с марсохода\")\n",
        "                for photo in data2[\"photos\"]:\n",
        "                    print(photo[\"img_src\"])\n",
        "            else:\n",
        "                print(\"Нет доступных фотографий\")\n",
        "\n",
        "        elif option == \"3\":\n",
        "            start_date = input(\"Введите начальную дату  ГГГГ-ММ-ДД \")\n",
        "            end_date = input(\"Введите конечную дату  ГГГГ-ММ-ДД \")\n",
        "            data3 = send_requests_earth_objects(start_date, end_date, api_key)\n",
        "            if data3 and \"near_earth_objects\" in data3:\n",
        "                for date, objects in data3[\"near_earth_objects\"].items():\n",
        "                    print(f\"К {date} найдены следующие объекты сближающиеся с Землей:\")\n",
        "                    for entity in objects:\n",
        "                        print(f\"- Название: {entity['name']}, \\\n",
        "                        Размер: {entityj['estimated_diameter']['meters']['estimated_diameter_max']},\\\n",
        "                        Потенциальная опасность: {entity['is_potentially_hazardous_asteroid']}\")\n",
        "\n",
        "        elif option == \"4\":\n",
        "            data4 = send_requests_space_weather()\n",
        "            if data4:\n",
        "                print(\"Данные о космической погоде\")\n",
        "                for entry in data4:\n",
        "                    print(f\"Дата: {entry['time_tag']}, Индекс K: {entry['kp_index']}\")\n",
        "\n",
        "        elif option == \"5\":\n",
        "            print(\"Чат бот завершил работу.\")\n",
        "            break\n",
        "        else:\n",
        "            print(\"Ошибка ввода. Пожалуйста, попробуйте снова.\")\n",
        "\n",
        "if __name__ == \"__main__\":\n",
        "    main()"
      ]
    },
    {
      "cell_type": "markdown",
      "metadata": {
        "id": "ia9UtA0cU1Iy"
      },
      "source": [
        "# Задание 2"
      ]
    },
    {
      "cell_type": "markdown",
      "metadata": {
        "id": "Ofu_GmqrU1Iy"
      },
      "source": [
        "Описание задачи\n",
        "\n",
        "Цель этой задачи - создать скрипт на Python, который взаимодействует с API Чикагского института искусств (https://api.artic.edu/docs/) для извлечения и отображения произведений искусства. Скрипт должен позволять пользователям просматривать работы по страницам, фильтровать их по имени художника и просматривать подробную информацию о выбранных произведениях искусства. Ниже приведены требования и функциональные возможности, которые необходимо реализовать:\n",
        "\n",
        "Требования:\n",
        "Извлекать произведения искусства:\n",
        "\n",
        "- Создайте функцию, которая извлекает список произведений искусства из API Чикагского института искусств.\n",
        "Функция должна принимать параметр page для разбивки на страницы и возвращать список произведений искусства вместе с информацией о разбивке на страницы.\n",
        "Фильтровать произведения искусства:\n",
        "\n",
        "- Реализуйте функцию, которая фильтрует список произведений искусства на основе имени указанного художника. Функция должна возвращать список работ, которые соответствуют имени художника (без учета регистра).\n",
        "Отображать подробную информацию об оформлении:\n",
        "\n",
        "- Напишите функцию, которая отображает названия работ для пользователя и позволяет ему выбрать одну из них, введя соответствующий номер.\n",
        "После выбора функция должна отображать подробную информацию о выбранном произведении, включая название, исполнителя, дату и носитель.\n",
        "Разбивка на страницы и взаимодействие с пользователем:\n",
        "\n",
        "- Создайте основную функцию, которая управляет выборкой произведений и взаимодействием с пользователем.\n",
        "\n",
        "Разрешите пользователям перемещаться по страницам с произведениями искусства, выполнять фильтрацию по исполнителю или выходить из программы.\n",
        "\n",
        "Если страниц с произведениями искусства несколько, укажите варианты перехода к следующей странице, предыдущей странице, фильтрации по исполнителю или выхода из программы."
      ]
    },
    {
      "cell_type": "code",
      "execution_count": null,
      "metadata": {
        "colab": {
          "base_uri": "https://localhost:8080/",
          "height": 877
        },
        "id": "jjUH1GznU1Iy",
        "outputId": "c017b3ae-f0bd-486a-b7e5-c6e302048fb5"
      },
      "outputs": [
        {
          "name": "stdout",
          "output_type": "stream",
          "text": [
            "Произведения искусства:\n",
            "1. \"Trident\" Punch Bowl (Автор: Designed by Sidney B. Waugh (American, 1904–1963)\n",
            "Steuben Division, Corning Glass Works (American, 1918–2008)\n",
            "Corning, New York)\n",
            "2. \"Pegasus\" Vase (Автор: Designed by Sidney B. Waugh (American, 1904–1963)\n",
            "Steuben Division, Corning Glass Works (American, 1918–2008)\n",
            "Corning, New York)\n",
            "3. \"Zodiac\" Bowl (Автор: Sidney Waugh (American, 1904–1963)\n",
            "Engraved by Joseph Libisch (American, born Austria-Hungary, now Croatia, 1886–1964)\n",
            "Steuben Division, Corning Glass Works (American, 1918–2008)\n",
            "Corning, New York)\n",
            "4. To the Dance (Apaches) (Автор: Léon Gaspard (American, born Vitebsk, Russian Empire, now Belarus, 1882-1964))\n",
            "5. Card Table (Автор: Artist unknown (American, 18th century)\n",
            "New York)\n",
            "6. Olivia Simes Morris (Автор: James Peale (American, 1749–1831))\n",
            "7. Pembroke Table (Автор: Artist unknown (American, 18th–19th century)\n",
            "New York)\n",
            "8. Pair of Candelabra (Автор: Chased by Eugene J. Soligny (American, c. 1833–1901)\n",
            "Tiffany and Company (American, founded 1837)\n",
            "New York)\n",
            "9. Cream Pot, part of Tea and Coffee Service (Автор: Rogers, Smith, and Company (American, 1862–c. 1900)\n",
            "Meriden, Connecticut)\n",
            "10. Sugar Basin, part of Tea and Coffee Set (Автор: Rogers, Smith, and Company (American, 1862–c. 1900)\n",
            "Meriden, Connecticut)\n",
            "11. Hot Water Kettle, part of Tea and Coffee Set (Автор: Rogers, Smith, and Company (American, 1862–c. 1900)\n",
            "Meriden, Connecticut)\n",
            "12. Teapot, part of Tea and Coffee Service (Автор: Rogers, Smith, and Company (American, 1862–c. 1900)\n",
            "Meriden, Connecticut)\n",
            "Страница: 1\n",
            "с - следующая страница\n",
            "х - фильтрация по художнику\n",
            "в- выход\n"
          ]
        },
        {
          "ename": "KeyboardInterrupt",
          "evalue": "Interrupted by user",
          "output_type": "error",
          "traceback": [
            "\u001b[0;31m---------------------------------------------------------------------------\u001b[0m",
            "\u001b[0;31mKeyboardInterrupt\u001b[0m                         Traceback (most recent call last)",
            "\u001b[0;32m<ipython-input-17-ec51aeb7f198>\u001b[0m in \u001b[0;36m<cell line: 76>\u001b[0;34m()\u001b[0m\n\u001b[1;32m     75\u001b[0m \u001b[0;34m\u001b[0m\u001b[0m\n\u001b[1;32m     76\u001b[0m \u001b[0;32mif\u001b[0m \u001b[0m__name__\u001b[0m \u001b[0;34m==\u001b[0m \u001b[0;34m\"__main__\"\u001b[0m\u001b[0;34m:\u001b[0m\u001b[0;34m\u001b[0m\u001b[0;34m\u001b[0m\u001b[0m\n\u001b[0;32m---> 77\u001b[0;31m     \u001b[0mmain\u001b[0m\u001b[0;34m(\u001b[0m\u001b[0;34m)\u001b[0m\u001b[0;34m\u001b[0m\u001b[0;34m\u001b[0m\u001b[0m\n\u001b[0m",
            "\u001b[0;32m<ipython-input-17-ec51aeb7f198>\u001b[0m in \u001b[0;36mmain\u001b[0;34m()\u001b[0m\n\u001b[1;32m     47\u001b[0m         \u001b[0mprint\u001b[0m\u001b[0;34m(\u001b[0m\u001b[0;34m\"в- выход\"\u001b[0m\u001b[0;34m)\u001b[0m\u001b[0;34m\u001b[0m\u001b[0;34m\u001b[0m\u001b[0m\n\u001b[1;32m     48\u001b[0m \u001b[0;34m\u001b[0m\u001b[0m\n\u001b[0;32m---> 49\u001b[0;31m         \u001b[0muser_input\u001b[0m \u001b[0;34m=\u001b[0m \u001b[0minput\u001b[0m\u001b[0;34m(\u001b[0m\u001b[0;34m\"Выберите номер действия \"\u001b[0m\u001b[0;34m)\u001b[0m\u001b[0;34m\u001b[0m\u001b[0;34m\u001b[0m\u001b[0m\n\u001b[0m\u001b[1;32m     50\u001b[0m \u001b[0;34m\u001b[0m\u001b[0m\n\u001b[1;32m     51\u001b[0m         \u001b[0;32mif\u001b[0m \u001b[0muser_input\u001b[0m\u001b[0;34m.\u001b[0m\u001b[0misdigit\u001b[0m\u001b[0;34m(\u001b[0m\u001b[0;34m)\u001b[0m\u001b[0;34m:\u001b[0m\u001b[0;34m\u001b[0m\u001b[0;34m\u001b[0m\u001b[0m\n",
            "\u001b[0;32m/usr/local/lib/python3.10/dist-packages/ipykernel/kernelbase.py\u001b[0m in \u001b[0;36mraw_input\u001b[0;34m(self, prompt)\u001b[0m\n\u001b[1;32m    849\u001b[0m                 \u001b[0;34m\"raw_input was called, but this frontend does not support input requests.\"\u001b[0m\u001b[0;34m\u001b[0m\u001b[0;34m\u001b[0m\u001b[0m\n\u001b[1;32m    850\u001b[0m             )\n\u001b[0;32m--> 851\u001b[0;31m         return self._input_request(str(prompt),\n\u001b[0m\u001b[1;32m    852\u001b[0m             \u001b[0mself\u001b[0m\u001b[0;34m.\u001b[0m\u001b[0m_parent_ident\u001b[0m\u001b[0;34m,\u001b[0m\u001b[0;34m\u001b[0m\u001b[0;34m\u001b[0m\u001b[0m\n\u001b[1;32m    853\u001b[0m             \u001b[0mself\u001b[0m\u001b[0;34m.\u001b[0m\u001b[0m_parent_header\u001b[0m\u001b[0;34m,\u001b[0m\u001b[0;34m\u001b[0m\u001b[0;34m\u001b[0m\u001b[0m\n",
            "\u001b[0;32m/usr/local/lib/python3.10/dist-packages/ipykernel/kernelbase.py\u001b[0m in \u001b[0;36m_input_request\u001b[0;34m(self, prompt, ident, parent, password)\u001b[0m\n\u001b[1;32m    893\u001b[0m             \u001b[0;32mexcept\u001b[0m \u001b[0mKeyboardInterrupt\u001b[0m\u001b[0;34m:\u001b[0m\u001b[0;34m\u001b[0m\u001b[0;34m\u001b[0m\u001b[0m\n\u001b[1;32m    894\u001b[0m                 \u001b[0;31m# re-raise KeyboardInterrupt, to truncate traceback\u001b[0m\u001b[0;34m\u001b[0m\u001b[0;34m\u001b[0m\u001b[0m\n\u001b[0;32m--> 895\u001b[0;31m                 \u001b[0;32mraise\u001b[0m \u001b[0mKeyboardInterrupt\u001b[0m\u001b[0;34m(\u001b[0m\u001b[0;34m\"Interrupted by user\"\u001b[0m\u001b[0;34m)\u001b[0m \u001b[0;32mfrom\u001b[0m \u001b[0;32mNone\u001b[0m\u001b[0;34m\u001b[0m\u001b[0;34m\u001b[0m\u001b[0m\n\u001b[0m\u001b[1;32m    896\u001b[0m             \u001b[0;32mexcept\u001b[0m \u001b[0mException\u001b[0m \u001b[0;32mas\u001b[0m \u001b[0me\u001b[0m\u001b[0;34m:\u001b[0m\u001b[0;34m\u001b[0m\u001b[0;34m\u001b[0m\u001b[0m\n\u001b[1;32m    897\u001b[0m                 \u001b[0mself\u001b[0m\u001b[0;34m.\u001b[0m\u001b[0mlog\u001b[0m\u001b[0;34m.\u001b[0m\u001b[0mwarning\u001b[0m\u001b[0;34m(\u001b[0m\u001b[0;34m\"Invalid Message:\"\u001b[0m\u001b[0;34m,\u001b[0m \u001b[0mexc_info\u001b[0m\u001b[0;34m=\u001b[0m\u001b[0;32mTrue\u001b[0m\u001b[0;34m)\u001b[0m\u001b[0;34m\u001b[0m\u001b[0;34m\u001b[0m\u001b[0m\n",
            "\u001b[0;31mKeyboardInterrupt\u001b[0m: Interrupted by user"
          ]
        }
      ],
      "source": [
        "import requests\n",
        "\n",
        "\n",
        "def send_work_of_art(page=1):\n",
        "    url = f'https://api.artic.edu/api/v1/artworks?'\n",
        "    response = requests.get(url)\n",
        "    if response.status_code == 200:\n",
        "        data = response.json()\n",
        "        return data['data'], data['pagination']\n",
        "    else:\n",
        "        print(\"Ошибка API:\", response.status_code)\n",
        "        return [], {}\n",
        "\n",
        "\n",
        "def filter(artworks, artist_name):\n",
        "    return [art for art in artworks if artist_name.lower() in art.get('artist_display', '').lower()]\n",
        "\n",
        "\n",
        "def info(art):\n",
        "    print(\"Название:\", art['title'])\n",
        "    print(\"Автор:\", art['artist_display'])\n",
        "    print(\"Дата:\", art['date_display'])\n",
        "    print(\"Носитель:\", art['medium_display'])\n",
        "\n",
        "\n",
        "def main():\n",
        "    current_page = 1\n",
        "\n",
        "    while True:\n",
        "        artworks, pagination = send_work_of_art(current_page)\n",
        "\n",
        "        if not artworks:\n",
        "            print(\"Нет доступных произведений.\")\n",
        "            return\n",
        "\n",
        "        print(\"Произведения искусства:\")\n",
        "        for i, artwork in enumerate(artworks, start=1):\n",
        "            print(f\"{i}. {artwork['title']} (Автор: {artwork['artist_display']})\")\n",
        "\n",
        "\n",
        "        print(\"Страница:\", current_page)\n",
        "        if current_page < pagination['total_pages']:\n",
        "            print(\"с - следующая страница\")\n",
        "        if current_page > 1:\n",
        "            print(\"п - предыдущая страница\")\n",
        "        print(\"х - фильтрация по художнику\")\n",
        "        print(\"в- выход\")\n",
        "\n",
        "        user_input = input(\"Выберите номер действия \")\n",
        "\n",
        "        if user_input.isdigit():\n",
        "            i = int(user_input) - 1\n",
        "            if 0 <= i < len(artworks):\n",
        "                info(artworks[i])\n",
        "            else:\n",
        "                print(\"Неверный номер.\")\n",
        "        elif user_input == 'с' and current_page < pagination['total_pages']:\n",
        "            current_page += 1\n",
        "        elif user_input == 'п' and current_page > 1:\n",
        "            current_page -= 1\n",
        "        elif user_input == 'х':\n",
        "            artist_name = input(\"Введите имя художника \")\n",
        "            filtered_artworks = filter(artworks, artist_name)\n",
        "            if filtered_artworks:\n",
        "                print(\"Найденные произведения:\")\n",
        "                for i, artwork in enumerate(filtered_artworks, start=1):\n",
        "                    print(f\"{i}. {artwork['title']} (Автор: {artwork['artist_display']})\")\n",
        "            else:\n",
        "                print(\"Нет произведений для указанного художника\")\n",
        "        elif user_input == 'в':\n",
        "            print(\"Выход из программы\")\n",
        "            break\n",
        "        else:\n",
        "            print(\"Неверный ввод\")\n",
        "\n",
        "if __name__ == \"__main__\":\n",
        "    main()"
      ]
    },
    {
      "cell_type": "markdown",
      "metadata": {
        "id": "eecUb-akU1ji"
      },
      "source": [
        "# Задание 3"
      ]
    },
    {
      "cell_type": "markdown",
      "metadata": {
        "id": "jsK7IKptU1ji"
      },
      "source": [
        "Задача: Создать программу по управлению портфелем криптовалют\n",
        "\n",
        "Цель: Создать скрипт на Python, который извлекает цены на криптовалюты в режиме реального времени, позволяет пользователям управлять портфелем криптовалют, вычисляет общую стоимость портфеля, отслеживает изменения цен и предоставляет исторические данные о ценах для анализа.\n",
        "\n",
        "Требования:\n",
        "Получение текущих цен на криптовалюты:\n",
        "\n",
        "Используйте https://docs.coingecko.com/ для получения актуальных цен на список криптовалют.\n",
        "\n",
        "Управление портфелем:\n",
        "\n",
        "- Позволяет пользователю создавать портфель криптовалют и управлять им, указывая количество каждой криптовалюты, которой он владеет.\n",
        "- Расчитывает общую стоимость портфеля в указанной фиатной валюте (например, долларах США).\n",
        "\n",
        "Отслеживание изменения цен:\n",
        "\n",
        "- Отображение процентного изменения цены для каждой криптовалюты в портфеле за последние 24 часа.\n",
        "- Выделите все криптовалюты, стоимость которых значительно увеличилась или снизилась.\n",
        "\n",
        "Поиск исторических данных о ценах:\n",
        "\n",
        "- Получение исторических данных о ценах на указанную криптовалюту за последнюю неделю.\n",
        "- Предоставьте пользователю возможность визуализировать эти данные в простом текстовом формате (например, цены за день).\n",
        "\n",
        "Взаимодействие с пользователем:\n",
        "\n",
        "- Реализуйте интерфейс командной строки для ввода данных пользователем.\n",
        "- Предоставьте опции для получения текущих цен, управления портфелем, просмотра изменений цен или анализа исторических данных.\n"
      ]
    },
    {
      "cell_type": "code",
      "execution_count": null,
      "metadata": {
        "colab": {
          "background_save": true,
          "base_uri": "https://localhost:8080/"
        },
        "id": "_0DToTqlvywa",
        "outputId": "7ab3789e-c351-4b2d-cf60-c5ec7b2cf9ec"
      },
      "outputs": [
        {
          "name": "stdout",
          "output_type": "stream",
          "text": [
            "1. Добавить в портфель\n",
            "2. Показать стоимость портфеля\n",
            "3. Изменения цен за 24 часа\n",
            "4. Выход\n",
            "1. Добавить в портфель\n",
            "2. Показать стоимость портфеля\n",
            "3. Изменения цен за 24 часа\n",
            "4. Выход\n",
            "Общая стоимость портфеля: 17832.80 USD\n",
            "1. Добавить в портфель\n",
            "2. Показать стоимость портфеля\n",
            "3. Изменения цен за 24 часа\n",
            "4. Выход\n"
          ]
        }
      ],
      "source": [
        "import requests\n",
        "\n",
        "def get_current_price(crypto_id):\n",
        "    url = f'https://api.coingecko.com/api/v3/simple/price?ids={crypto_id}&vs_currencies=usd&include_24hr_change=true'\n",
        "    response = requests.get(url)\n",
        "    if response.status_code == 200:\n",
        "        data = response.json()[crypto_id]\n",
        "        return data['usd'], data['usd_24h_change']\n",
        "    return None, None\n",
        "\n",
        "def main():\n",
        "    portfolio = {}\n",
        "    while True:\n",
        "        print(\"1. Добавить в портфель\")\n",
        "        print(\"2. Показать стоимость портфеля\")\n",
        "        print(\"3. Изменения цен за 24 часа\")\n",
        "        print(\"4. Выход\")\n",
        "\n",
        "        choice = input(\"Выберите опцию: \")\n",
        "\n",
        "        if choice == '1':\n",
        "            crypto_id = input(\"Введите ID криптовалюты: \")\n",
        "            amount = float(input(\"Введите количество: \"))\n",
        "            portfolio[crypto_id] = portfolio.get(crypto_id, 0) + amount\n",
        "\n",
        "        elif choice == '2':\n",
        "            total_value = sum(get_current_price(crypto)[0] * amount for crypto, amount in portfolio.items() if get_current_price(crypto)[0] is not None)\n",
        "            print(f\"Общая стоимость портфеля: {total_value:.2f} USD\")\n",
        "\n",
        "        elif choice == '3':\n",
        "            for crypto, amount in portfolio.items():\n",
        "                price, change = get_current_price(crypto)\n",
        "                if price is not None:\n",
        "                    print(f\"{crypto}: {price} USD, 24h change: {change:.2f}%\")\n",
        "\n",
        "        elif choice == '4':\n",
        "            break\n",
        "\n",
        "        else:\n",
        "            print(\"Неверный выбор, попробуйте снова.\")\n",
        "\n",
        "if __name__ == \"__main__\":\n",
        "    main()\n",
        "\n",
        "\n"
      ]
    },
    {
      "cell_type": "markdown",
      "metadata": {
        "id": "QGrsZrv5U1s8"
      },
      "source": [
        "# Дополнительно: Задание 4"
      ]
    },
    {
      "cell_type": "markdown",
      "metadata": {
        "id": "qs_XITmYU1s8"
      },
      "source": [
        "Задание 4: Проектное\n",
        "\n",
        "Вам необходимо самостоятельно найти откртое API предоставляющее информацию в открытом доступе и реализовать собственный проект!\n",
        "\n",
        "\n",
        "Критерии приемки результата:\n",
        "\n",
        "- Проект включает в себя не менее 5 возможостей для пользователя\n",
        "- Проект позволяет использовать все возможности проекта пользователю при помощи взаимодействия через коммандную строку\n",
        "- Проект работает с открытым API (это значит что при проверке вашей работы преподавателем, преподавателю необходимо просто запустить ячейку с кодом вашего проекта и она будет работать без дополнительных манипуляции)\n",
        "- Проект должен обязательно включать в себя ряд используемых конструкции:\n",
        "    - Функции\n",
        "    - Условные конструкции\n",
        "    - Ввод/вывод\n",
        "    - Словари/Списки\n",
        "- Допускается использование библиотек:\n",
        "    - requests\n",
        "    - datetime\n",
        "    - random"
      ]
    },
    {
      "cell_type": "markdown",
      "metadata": {
        "id": "VKXhaJi4FL0B"
      },
      "source": [
        "**Здесь добавьте описание вашего проекта**"
      ]
    },
    {
      "cell_type": "code",
      "execution_count": null,
      "metadata": {
        "id": "wiA55k1KU1s8"
      },
      "outputs": [],
      "source": [
        "#  А здесь код"
      ]
    }
  ],
  "metadata": {
    "colab": {
      "collapsed_sections": [
        "ra45s33wUt-C",
        "ia9UtA0cU1Iy",
        "eecUb-akU1ji",
        "QGrsZrv5U1s8"
      ],
      "provenance": [],
      "include_colab_link": true
    },
    "kernelspec": {
      "display_name": "Python 3",
      "name": "python3"
    },
    "language_info": {
      "name": "python"
    }
  },
  "nbformat": 4,
  "nbformat_minor": 0
}