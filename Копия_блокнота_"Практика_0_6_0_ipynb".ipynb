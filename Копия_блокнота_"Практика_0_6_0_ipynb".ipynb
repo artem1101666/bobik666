{
  "cells": [
    {
      "cell_type": "markdown",
      "metadata": {
        "id": "view-in-github",
        "colab_type": "text"
      },
      "source": [
        "<a href=\"https://colab.research.google.com/github/artem1101666/bobik666/blob/main/%D0%9A%D0%BE%D0%BF%D0%B8%D1%8F_%D0%B1%D0%BB%D0%BE%D0%BA%D0%BD%D0%BE%D1%82%D0%B0_%22%D0%9F%D1%80%D0%B0%D0%BA%D1%82%D0%B8%D0%BA%D0%B0_0_6_0_ipynb%22.ipynb\" target=\"_parent\"><img src=\"https://colab.research.google.com/assets/colab-badge.svg\" alt=\"Open In Colab\"/></a>"
      ]
    },
    {
      "cell_type": "code",
      "execution_count": null,
      "metadata": {
        "id": "dHfcagksyUbL"
      },
      "outputs": [],
      "source": [
        "Синцов Артемий Владимирович"
      ]
    },
    {
      "cell_type": "markdown",
      "metadata": {
        "id": "tKNG_RzWxG6g"
      },
      "source": [
        "\n",
        "\n",
        "---\n",
        "\n"
      ]
    },
    {
      "cell_type": "markdown",
      "metadata": {
        "id": "cFcrKfclKWh0"
      },
      "source": [
        "# **Дисклеймер**\n",
        "\n",
        "В данной практике будет введен дополнительный критерий: чистота и читаемость кода, а также соблюдение правил описанных в начале практики"
      ]
    },
    {
      "cell_type": "markdown",
      "metadata": {
        "id": "0SnE87X1xDlV"
      },
      "source": [
        "\n",
        "\n",
        "---\n",
        "\n"
      ]
    },
    {
      "cell_type": "markdown",
      "metadata": {
        "id": "VxawR9NubT_F"
      },
      "source": [
        "# Задание 1\n",
        "\n",
        "**Задача:**\n",
        "\n",
        "Напишите функцию очищающий список от дубликтов\n",
        "\n",
        "\n",
        "*Запрещено:*\n",
        "\n",
        "*   Использовать set() или готовые функции очищающие список от дубликатов\n",
        "\n",
        "Вввод:\n",
        "\n",
        "```\n",
        "apple banana apple 1 3 4 4 5\n",
        "```\n",
        "\n",
        "\n",
        "Вывод:\n",
        "\n",
        "```\n",
        "apple banana 1 3 4 5\n",
        "```\n",
        "\n"
      ]
    },
    {
      "cell_type": "code",
      "execution_count": null,
      "metadata": {
        "colab": {
          "base_uri": "https://localhost:8080/"
        },
        "id": "ml5gnbPXbeju",
        "outputId": "75905a80-db03-4fff-9429-4402240adea2"
      },
      "outputs": [
        {
          "name": "stdout",
          "output_type": "stream",
          "text": [
            "Введите список 1 2 3 4 4\n",
            "1 2 3 4\n"
          ]
        }
      ],
      "source": [
        "def cleaner(roster):\n",
        "    new_roster=[]\n",
        "    roster_affter_split=roster.split()\n",
        "\n",
        "    for i in roster_affter_split:\n",
        "        if i in roster:\n",
        "            if i  not in new_roster :\n",
        "                new_roster.append(i)\n",
        "    return new_roster\n",
        "\n",
        "\n",
        "roster=input('Введите список ')\n",
        "result=cleaner(roster)\n",
        "print(' '.join(list(map(str,result))))"
      ]
    },
    {
      "cell_type": "markdown",
      "metadata": {
        "id": "y05x0eD0cVCC"
      },
      "source": [
        "# Задание 2\n",
        "\n",
        "**Задача:**\n",
        "\n",
        "Написать функцию для нахождения простых чисел в диапазоне\n",
        "\n",
        "Ввод:\n",
        "\n",
        "```\n",
        "10, 50\n",
        "```\n",
        "\n",
        "Вывод:\n",
        "\n",
        "```\n",
        "11, 13, 17, 19, 23, 29, 31, 37, 41, 43, 47\n",
        "```"
      ]
    },
    {
      "cell_type": "code",
      "execution_count": null,
      "metadata": {
        "colab": {
          "base_uri": "https://localhost:8080/"
        },
        "id": "XSMJnLgrc6Bf",
        "outputId": "82ab5692-260a-4655-99c3-5e327845fdea"
      },
      "outputs": [
        {
          "name": "stdout",
          "output_type": "stream",
          "text": [
            "Введите число с которого начнется диапазон 10\n",
            "Введите число окончания диапазона 50\n",
            "11 13 17 19 23 29 31 37 41 43 47\n"
          ]
        }
      ],
      "source": [
        "def limiter(seed_number,final_number):\n",
        "    result=[]\n",
        "\n",
        "    for number in range(seed_number,final_number+1):\n",
        "        if number>1:\n",
        "            for i in range(2,number):\n",
        "                if number%i==0:\n",
        "                    break\n",
        "            else:\n",
        "                result.append(number)\n",
        "\n",
        "    return result\n",
        "\n",
        "\n",
        "\n",
        "seed_number=int(input('Введите число с которого начнется диапазон '))\n",
        "final_number=int(input('Введите число окончания диапазона '))\n",
        "result=limiter(seed_number,final_number)\n",
        "print((' '.join(list(map(str,result)))))\n"
      ]
    },
    {
      "cell_type": "markdown",
      "metadata": {
        "id": "vYM0LyxxdElN"
      },
      "source": [
        "# Задание 3\n",
        "\n",
        "Напишите функцию для объединения двух списков (список ключей и список значении) в словарь\n",
        "\n",
        "*Запрещено:*\n",
        "\n",
        "*   Использования готовых функции для объединения списков (пример: zip() )\n",
        "\n",
        "Дано:\n",
        "\n",
        "```\n",
        "keys = ['a', 'b', 'c', 'e' ]\n",
        "values = [1, 2, 3, 4]\n",
        "```\n",
        "\n",
        "Вывод:\n",
        "```\n",
        "{'a': 1, 'b': 2, 'c': 3, 'e': 4}\n",
        "```\n",
        "\n",
        "\n"
      ]
    },
    {
      "cell_type": "code",
      "execution_count": null,
      "metadata": {
        "colab": {
          "base_uri": "https://localhost:8080/"
        },
        "id": "CRvhHTjCdvjS",
        "outputId": "d3d6a56a-4bcc-4db0-a4b1-4c58b598d3bd"
      },
      "outputs": [
        {
          "name": "stdout",
          "output_type": "stream",
          "text": [
            "{'a': 1, 'b': 2, 'c': 3, 'e': 4}\n"
          ]
        }
      ],
      "source": [
        "def union(keys,values):\n",
        "    result={}\n",
        "\n",
        "    for i in range(len(values)):\n",
        "      result[keys[i]]=values[i]\n",
        "\n",
        "    return result\n",
        "\n",
        "\n",
        "keys = ['a', 'b', 'c', 'e' ]\n",
        "values = [1, 2, 3, 4]\n",
        "print(union(keys,values))"
      ]
    },
    {
      "cell_type": "markdown",
      "metadata": {
        "id": "L_w8H8i-fQcP"
      },
      "source": [
        "# Задание 4\n",
        "\n",
        "Напишите функцию(ии) для подсчета статистических параметров:\n",
        "*   Сумму\n",
        "*   Среднее арифметическое\n",
        "*   Медиану\n",
        "*   Моду\n",
        "\n",
        "\n",
        "*Запрещено:*\n",
        "\n",
        "*   sum()\n",
        "*   sorted()\n",
        "*   и других функции предоставляющих готовое решение задания\n",
        "\n",
        "Дано:\n",
        "\n",
        "```\n",
        "numbers = [1, 2, 2, 3, 4, 5, 6, 7, 8 ,9 ,10]\n",
        "\n",
        "```\n",
        "\n",
        "Вывод:\n",
        "```\n",
        "{'mean': 5.181818181818182, 'median': 5, 'mode': 2, 'sum': 57}\n",
        "```\n"
      ]
    },
    {
      "cell_type": "code",
      "execution_count": null,
      "metadata": {
        "colab": {
          "base_uri": "https://localhost:8080/"
        },
        "id": "dW6jW_rjfuba",
        "outputId": "a3ce2a32-12fa-491e-8eea-0f034c139104"
      },
      "outputs": [
        {
          "name": "stdout",
          "output_type": "stream",
          "text": [
            "{'Сумма': 57, 'Среднее арифметическое': 5, 'Медиана': 5, 'Мода': 2}\n"
          ]
        }
      ],
      "source": [
        "def summa(numbers):\n",
        "    final_sum=0\n",
        "\n",
        "    for i in numbers:\n",
        "        final_sum+=int(i)\n",
        "\n",
        "    return final_sum\n",
        "\n",
        "\n",
        "def arithmetic_mean(numbers):\n",
        "    count=0\n",
        "\n",
        "    for i in numbers:\n",
        "        count+=1\n",
        "        final_arithmetic_mean=sum(numbers)//count\n",
        "\n",
        "    return final_arithmetic_mean\n",
        "\n",
        "\n",
        "def median(numbers):\n",
        "    cnt=0\n",
        "\n",
        "    for i in numbers:\n",
        "      cnt+=1\n",
        "      result=numbers[cnt//2]\n",
        "\n",
        "    return result\n",
        "\n",
        "\n",
        "def moda(numbers):\n",
        "    count_dict = {}\n",
        "\n",
        "    for num in numbers:\n",
        "        if num in count_dict:\n",
        "            count_dict[num] += 1\n",
        "        else:\n",
        "            count_dict[num] = 1\n",
        "\n",
        "    max_count = max(count_dict.values())\n",
        "\n",
        "    mode = [num for num, count in count_dict.items() if count == max_count]\n",
        "\n",
        "    return mode [0]\n",
        "\n",
        "\n",
        "numbers = [1, 2, 2, 3, 4, 5, 6, 7, 8 ,9 ,10]\n",
        "\n",
        "final_sum=summa(numbers)\n",
        "final_arithmetic_mean=arithmetic_mean(numbers)\n",
        "final_median=median(numbers)\n",
        "final_moda=moda(numbers)\n",
        "\n",
        "result={\n",
        "    \"Сумма\":final_sum,\n",
        "    \"Среднее арифметическое\":final_arithmetic_mean,\n",
        "    \"Медиана\":final_median,\n",
        "    \"Мода\":final_moda\n",
        "}\n",
        "print(result)"
      ]
    },
    {
      "cell_type": "markdown",
      "metadata": {
        "id": "hZW0NZ7SgTcp"
      },
      "source": [
        "# Задание 5\n",
        "\n",
        "На ввод поступает строка символов. Строка состоит из слов, которые отделены друг от друга пробелами. Необходимо вывести самое длинное слово и его порядковый номер.\n",
        "\n",
        "*Запрещено:*\n",
        "\n",
        "*   len()\n",
        "\n",
        "Дано:\n",
        "\n",
        "```\n",
        "Страдание и боль всегда обязательны для широкого сознания и глубокого сердца.\n",
        "\n",
        "```\n",
        "\n",
        "Вывод:\n",
        "```\n",
        "Самое длинное слово с номером 5: обязательны\n",
        "```"
      ]
    },
    {
      "cell_type": "code",
      "execution_count": null,
      "metadata": {
        "colab": {
          "base_uri": "https://localhost:8080/"
        },
        "id": "rC5DpHHLsDYp",
        "outputId": "774e9aa8-3369-4568-9e5a-3dbe9791165c"
      },
      "outputs": [
        {
          "name": "stdout",
          "output_type": "stream",
          "text": [
            "Самое длинное слово с номером 7 : широкогоjjjj\n"
          ]
        }
      ],
      "source": [
        "def lonngest_word(given):\n",
        "    words=[]\n",
        "    current_word=\"\"\n",
        "\n",
        "    for word in given :\n",
        "        if word==\" \":\n",
        "            words.append(current_word)\n",
        "            current_word=\"\"\n",
        "        else:\n",
        "            current_word+=word\n",
        "\n",
        "    if current_word==True:\n",
        "        words.append(current_word)\n",
        "\n",
        "    max_len=0\n",
        "    longest_word=\"\"\n",
        "    index_longest_word=0\n",
        "\n",
        "    for i in range(len(words)):\n",
        "        word_len=0\n",
        "        for word in words[i]:\n",
        "            word_len+=1\n",
        "\n",
        "        if word_len> max_len:\n",
        "            max_len=word_len\n",
        "            longest_word=words[i]\n",
        "            index_longest_word=i+1\n",
        "    print(\"Самое длинное слово с номером\", index_longest_word,\":\",longest_word)\n",
        "\n",
        "\n",
        "\n",
        "given=('Страдание и боль всегда обязательны для широкого сознания \\\n",
        "и глубокого сердца.')\n",
        "result=lonngest_word(given)\n"
      ]
    },
    {
      "cell_type": "markdown",
      "metadata": {
        "id": "k5BzJW5ZeaQN"
      },
      "source": [
        "# Задание 6\n",
        "\n",
        "Напишите программу, для управления оценками студентов, со следующими функциями:\n",
        "\n",
        "* Добавление информации о студенте и его оценках.\n",
        "* Подсчет среднего балла студента.\n",
        "* Получение списка всех студентов с их средними баллами.\n",
        "* Поиск студента по имени и вывод его оценок и среднего балла.\n",
        "\n",
        "\n",
        "\n"
      ]
    },
    {
      "cell_type": "code",
      "execution_count": null,
      "metadata": {
        "colab": {
          "background_save": true,
          "base_uri": "https://localhost:8080/"
        },
        "id": "cvhlltVbdyoL",
        "outputId": "03a332c2-9e6b-43fd-b6ba-59bd80a128b0"
      },
      "outputs": [
        {
          "name": "stdout",
          "output_type": "stream",
          "text": [
            "список действий(добавить студента,добавить оценку    вывести средние баллы,найти студента,закончить)\n",
            "Студент алег Успешно добавлен\n",
            "список действий(добавить студента,добавить оценку    вывести средние баллы,найти студента,закончить)\n",
            "Студент алек Успешно добавлен\n",
            "список действий(добавить студента,добавить оценку    вывести средние баллы,найти студента,закончить)\n",
            "Оценка 5 успешно добавлена студенту  алек\n",
            "список действий(добавить студента,добавить оценку    вывести средние баллы,найти студента,закончить)\n",
            "Оценка 5 успешно добавлена студенту  алек \n",
            "список действий(добавить студента,добавить оценку    вывести средние баллы,найти студента,закончить)\n",
            "Оценка 6 успешно добавлена студенту  алег \n",
            "список действий(добавить студента,добавить оценку    вывести средние баллы,найти студента,закончить)\n",
            "алег  0\n",
            "список действий(добавить студента,добавить оценку    вывести средние баллы,найти студента,закончить)\n"
          ]
        },
        {
          "ename": "KeyboardInterrupt",
          "evalue": "Interrupted by user",
          "output_type": "error",
          "traceback": [
            "\u001b[0;31m---------------------------------------------------------------------------\u001b[0m",
            "\u001b[0;31mKeyboardInterrupt\u001b[0m                         Traceback (most recent call last)",
            "\u001b[0;32m<ipython-input-49-2364c852a5a5>\u001b[0m in \u001b[0;36m<cell line: 25>\u001b[0;34m()\u001b[0m\n\u001b[1;32m     26\u001b[0m     print(\"список действий(добавить студента,добавить оценку\\\n\u001b[1;32m     27\u001b[0m     вывести средние баллы,найти студента,закончить)\")\n\u001b[0;32m---> 28\u001b[0;31m     \u001b[0mcommand\u001b[0m\u001b[0;34m=\u001b[0m\u001b[0minput\u001b[0m\u001b[0;34m(\u001b[0m\u001b[0;34m\"Введите действие \"\u001b[0m\u001b[0;34m)\u001b[0m\u001b[0;34m\u001b[0m\u001b[0;34m\u001b[0m\u001b[0m\n\u001b[0m\u001b[1;32m     29\u001b[0m \u001b[0;34m\u001b[0m\u001b[0m\n\u001b[1;32m     30\u001b[0m     \u001b[0;32mif\u001b[0m \u001b[0;34m\"добавить студента\"\u001b[0m \u001b[0;32min\u001b[0m \u001b[0mcommand\u001b[0m \u001b[0;34m:\u001b[0m\u001b[0;34m\u001b[0m\u001b[0;34m\u001b[0m\u001b[0m\n",
            "\u001b[0;32m/usr/local/lib/python3.10/dist-packages/ipykernel/kernelbase.py\u001b[0m in \u001b[0;36mraw_input\u001b[0;34m(self, prompt)\u001b[0m\n\u001b[1;32m    849\u001b[0m                 \u001b[0;34m\"raw_input was called, but this frontend does not support input requests.\"\u001b[0m\u001b[0;34m\u001b[0m\u001b[0;34m\u001b[0m\u001b[0m\n\u001b[1;32m    850\u001b[0m             )\n\u001b[0;32m--> 851\u001b[0;31m         return self._input_request(str(prompt),\n\u001b[0m\u001b[1;32m    852\u001b[0m             \u001b[0mself\u001b[0m\u001b[0;34m.\u001b[0m\u001b[0m_parent_ident\u001b[0m\u001b[0;34m,\u001b[0m\u001b[0;34m\u001b[0m\u001b[0;34m\u001b[0m\u001b[0m\n\u001b[1;32m    853\u001b[0m             \u001b[0mself\u001b[0m\u001b[0;34m.\u001b[0m\u001b[0m_parent_header\u001b[0m\u001b[0;34m,\u001b[0m\u001b[0;34m\u001b[0m\u001b[0;34m\u001b[0m\u001b[0m\n",
            "\u001b[0;32m/usr/local/lib/python3.10/dist-packages/ipykernel/kernelbase.py\u001b[0m in \u001b[0;36m_input_request\u001b[0;34m(self, prompt, ident, parent, password)\u001b[0m\n\u001b[1;32m    893\u001b[0m             \u001b[0;32mexcept\u001b[0m \u001b[0mKeyboardInterrupt\u001b[0m\u001b[0;34m:\u001b[0m\u001b[0;34m\u001b[0m\u001b[0;34m\u001b[0m\u001b[0m\n\u001b[1;32m    894\u001b[0m                 \u001b[0;31m# re-raise KeyboardInterrupt, to truncate traceback\u001b[0m\u001b[0;34m\u001b[0m\u001b[0;34m\u001b[0m\u001b[0m\n\u001b[0;32m--> 895\u001b[0;31m                 \u001b[0;32mraise\u001b[0m \u001b[0mKeyboardInterrupt\u001b[0m\u001b[0;34m(\u001b[0m\u001b[0;34m\"Interrupted by user\"\u001b[0m\u001b[0;34m)\u001b[0m \u001b[0;32mfrom\u001b[0m \u001b[0;32mNone\u001b[0m\u001b[0;34m\u001b[0m\u001b[0;34m\u001b[0m\u001b[0m\n\u001b[0m\u001b[1;32m    896\u001b[0m             \u001b[0;32mexcept\u001b[0m \u001b[0mException\u001b[0m \u001b[0;32mas\u001b[0m \u001b[0me\u001b[0m\u001b[0;34m:\u001b[0m\u001b[0;34m\u001b[0m\u001b[0;34m\u001b[0m\u001b[0m\n\u001b[1;32m    897\u001b[0m                 \u001b[0mself\u001b[0m\u001b[0;34m.\u001b[0m\u001b[0mlog\u001b[0m\u001b[0;34m.\u001b[0m\u001b[0mwarning\u001b[0m\u001b[0;34m(\u001b[0m\u001b[0;34m\"Invalid Message:\"\u001b[0m\u001b[0;34m,\u001b[0m \u001b[0mexc_info\u001b[0m\u001b[0;34m=\u001b[0m\u001b[0;32mTrue\u001b[0m\u001b[0;34m)\u001b[0m\u001b[0;34m\u001b[0m\u001b[0;34m\u001b[0m\u001b[0m\n",
            "\u001b[0;31mKeyboardInterrupt\u001b[0m: Interrupted by user"
          ]
        }
      ],
      "source": [
        "info={}\n",
        "\n",
        "def add_names(name):\n",
        "    if name not in info:\n",
        "      info[name]=[]\n",
        "\n",
        "def add_marks(name,marks):\n",
        "    if name in info:\n",
        "        info[name].append(marks)\n",
        "\n",
        "def avverage(name):\n",
        "    if name in info and info[name]==True:\n",
        "        return sum(info[name])/len(info[name])\n",
        "    else:\n",
        "        return 0\n",
        "\n",
        "\n",
        "def find_students(name):\n",
        "    if name in info:\n",
        "        print(\"Студент \",name,\"оценки \",marks,\" средний балл \",avverage(name))\n",
        "    else:\n",
        "      print(\"Студента нет\")\n",
        "\n",
        "\n",
        "while True:\n",
        "    print(\"список действий(добавить студента,добавить оценку\\\n",
        "    вывести средние баллы,найти студента,закончить)\")\n",
        "    command=input(\"Введите действие \")\n",
        "\n",
        "    if \"добавить студента\" in command :\n",
        "        name=input(\"Введите имя \")\n",
        "        added_student=add_names(name)\n",
        "        print(\"Студент\",name,\"Успешно добавлен\")\n",
        "\n",
        "    elif \"оценку\" in command:\n",
        "        name=input(\"Введите имя \")\n",
        "        marks=input(\"Введите оценки \")\n",
        "        added_marks=add_marks(name,marks)\n",
        "        print(\"Оценка\",marks,\"успешно добавлена студенту \",name)\n",
        "\n",
        "    elif \"средние\" in command:\n",
        "        print(name,avverage(name))\n",
        "\n",
        "    elif \"найти студента\" in command:\n",
        "        name=input(\"Введите имя студента \")\n",
        "        print(find_students(name))\n",
        "\n",
        "    elif \"закончить\" in command:\n",
        "        print(\"конец\")\n",
        "        break\n",
        "\n",
        "\n",
        "\n",
        "\n",
        "\n",
        "\n"
      ]
    },
    {
      "cell_type": "markdown",
      "metadata": {
        "id": "iQ8Z-7PYgu1_"
      },
      "source": [
        "# Задание 7\n",
        "\n",
        "\n",
        "**Задача:**\n",
        "\n",
        "Создайте приложение-викторину с командной строкой, которое задает пользователям вопросы по различным темам и отслеживает их результаты.\n",
        "\n",
        "Ключевые особенности:\n",
        "\n",
        "*   Хранение данных о вопросах и ответах на них, а также баллов за каждый вопрос\n",
        "*   Реализуйте функцию для представления вопросов, принятия ответов пользователей и предоставления обратной связи о том, являются ли ответы правильными или неправильными.\n",
        "*  После завершения викторины отобразите общий балл пользователя из числа ответов на вопросы.\n",
        "*  Реализуйте функцию добавления нового вопроса\n",
        "*  Реализуйте функцию перемешивания вопросов, для отображения случайного вопроса\n"
      ]
    },
    {
      "cell_type": "code",
      "execution_count": null,
      "metadata": {
        "id": "DhxyYwHwh2V4"
      },
      "outputs": [],
      "source": []
    }
  ],
  "metadata": {
    "colab": {
      "provenance": [],
      "include_colab_link": true
    },
    "kernelspec": {
      "display_name": "Python 3",
      "name": "python3"
    },
    "language_info": {
      "name": "python"
    }
  },
  "nbformat": 4,
  "nbformat_minor": 0
}