{
  "nbformat": 4,
  "nbformat_minor": 0,
  "metadata": {
    "colab": {
      "provenance": [],
      "include_colab_link": true
    },
    "kernelspec": {
      "name": "python3",
      "display_name": "Python 3"
    },
    "language_info": {
      "name": "python"
    }
  },
  "cells": [
    {
      "cell_type": "markdown",
      "metadata": {
        "id": "view-in-github",
        "colab_type": "text"
      },
      "source": [
        "<a href=\"https://colab.research.google.com/github/artem1101666/bobik666/blob/main/%D0%9A%D0%BE%D0%BF%D0%B8%D1%8F_%D0%B1%D0%BB%D0%BE%D0%BA%D0%BD%D0%BE%D1%82%D0%B0_%22%D0%9F%D1%80%D0%B0%D0%BA%D1%82%D0%B8%D0%BA%D0%B0_0_7_0_ipynb%22.ipynb\" target=\"_parent\"><img src=\"https://colab.research.google.com/assets/colab-badge.svg\" alt=\"Open In Colab\"/></a>"
      ]
    },
    {
      "cell_type": "markdown",
      "source": [
        "Ссылка на материалы:  [пдф тут](https://drive.google.com/file/d/16Cm2tgrpuDH8eIdxdSYyOsfDPqnJ3byd/view?usp=sharing)"
      ],
      "metadata": {
        "id": "M9IlAZAPBBm9"
      }
    },
    {
      "cell_type": "markdown",
      "source": [
        "ФИО:"
      ],
      "metadata": {
        "id": "ZLVI_WIcuT56"
      }
    },
    {
      "cell_type": "code",
      "source": [
        "Синцов Артемий Владимирович"
      ],
      "metadata": {
        "id": "3AfG_Tal0P2S"
      },
      "execution_count": null,
      "outputs": []
    },
    {
      "cell_type": "markdown",
      "source": [
        "## Задание 1. HTTP-запросы, ответы и погода"
      ],
      "metadata": {
        "id": "Gtm1UjYgDlY7"
      }
    },
    {
      "cell_type": "markdown",
      "source": [
        "Описание:\n",
        "\n",
        "Напишите HTTP-запрос для получения информации о погоде в введенном городе из API.\n",
        "\n",
        "Можно использовать API: https://open-meteo.com/. Используйте метод GET.\n",
        "\n",
        "\n",
        "Ввод\n",
        "```\n",
        "56.50, 60.35\n",
        "```\n",
        "\n",
        "Вывод\n",
        "```\n",
        "Сегодня (1.11) погода 20 ◦С, нет осадков, туман\n",
        "```\n",
        "\n",
        "\n",
        "\n"
      ],
      "metadata": {
        "id": "FtjnLNIKzfMZ"
      }
    },
    {
      "cell_type": "code",
      "source": [
        "import requests\n",
        "from datetime import datetime\n",
        "\n",
        "def send_request(url):\n",
        "    reply=requests.get(url)\n",
        "    if reply.status_code==200:\n",
        "        return reply.json()\n",
        "\n",
        "\n",
        "def informations(data):\n",
        "    weather_code = data[\"current\"][\"weather_code\"]\n",
        "    if weather_code in [0,1]:\n",
        "        weather=\"Осадков не ожидается ,ясно\"\n",
        "    elif weather_code in [2,3]:\n",
        "        weather=\"Осадков не ожидается ,пасмурно\"\n",
        "    elif weather_code in [45,48]:\n",
        "        weather=\"Ожидается туман\"\n",
        "    else:\n",
        "      weather=\"Погода не очень ,ожидаются осадки\"\n",
        "    temperature=data[\"current\"][\"temperature_2m\"]\n",
        "    date_for_today = datetime.today().date()\n",
        "    date_for_today=f'{date_for_today.day}.{date_for_today.month}'\n",
        "    message=f'Сегодня ({date_for_today} ) погода {temperature}°C , {weather} '\n",
        "    return message\n",
        "\n",
        "\n",
        "def main(info):\n",
        "    url=f'https://api.open-meteo.com/v1/forecast?latitude={info[0]}&longitude={info[1]}&current=temperature_2m,rain,snowfall,weather_code&timezone=Europe%2FMoscow&forecast_days=1'\n",
        "    data=send_request(url)\n",
        "    message=informations(data)\n",
        "    print(message)\n",
        "\n",
        "\n",
        "info=[56.50, 60.35]\n",
        "main(info)"
      ],
      "metadata": {
        "id": "5Mbs40_buVRV",
        "colab": {
          "base_uri": "https://localhost:8080/"
        },
        "outputId": "71fde0e7-c3bb-4083-9ac6-f37de0c56a68"
      },
      "execution_count": null,
      "outputs": [
        {
          "output_type": "stream",
          "name": "stdout",
          "text": [
            "Сегодня (2.11 ) погода 0.6°C , Погода не очень ,ожидаются осадки \n"
          ]
        }
      ]
    },
    {
      "cell_type": "code",
      "source": [],
      "metadata": {
        "id": "DoEJcrkY8sVz"
      },
      "execution_count": null,
      "outputs": []
    },
    {
      "cell_type": "markdown",
      "source": [
        "## Задание 2. HTTP-запросы, ответы и покемоны"
      ],
      "metadata": {
        "id": "FYjU9WmVDoGs"
      }
    },
    {
      "cell_type": "markdown",
      "source": [
        "**Описание:**\n",
        "\n",
        "\n",
        "Создайте код программы, которая будет взаимодействовать с API, со следующим функионалом:\n",
        "\n",
        "1. Используя метод GET, отправьте запрос на endpoint /pokemon, чтобы получить список первых 20 покемонов\n",
        "\n",
        "2. Извлеките имена покемонов из ответа и выведите их списком\n",
        "\n",
        "3. Введите с помощью input() название одного из покемонов\n",
        "\n",
        "\n",
        "```\n",
        "Имя покемона: clefairy\n",
        "```\n",
        "\n",
        "\n",
        "\n",
        "4. Отправьте GET-запрос, чтобы получить полную информацию о выбранном покемоне\n",
        "\n",
        "5. Извлеките и выведите следующие данные о введенном покемоне:\n",
        "\n",
        "     • Имя\n",
        "\n",
        "     • Тип\n",
        "\n",
        "     • Вес\n",
        "\n",
        "     • Рост\n",
        "\n",
        "     • Способности\n",
        "\n",
        "Используйте PokéAPI (https://pokeapi.co/), который предоставляет информацию о покемонах, их характеристиках, типах и другую информацию."
      ],
      "metadata": {
        "id": "oZ1guEbl0PZm"
      }
    },
    {
      "cell_type": "code",
      "source": [
        "import requests\n",
        "\n",
        "\n",
        "def send_requests(url):\n",
        "    response=requests.get(url)\n",
        "    if response.status_code==200:\n",
        "        return response.json()\n",
        "\n",
        "\n",
        "def names(data):\n",
        "    names=[]\n",
        "    for name in data[\"results\"]:\n",
        "        names.append(name[\"name\"])\n",
        "    return names\n",
        "\n",
        "\n",
        "def more_info(pokemons_names):\n",
        "    url=f'https://pokeapi.co/api/v2/pokemon/{name}/'\n",
        "    tipes=[]\n",
        "    for species in data[\"types\"]:\n",
        "        tipes.append(species[\"type\"][\"name\"])\n",
        "\n",
        "    appellation=data[\"name\"]\n",
        "    wight=data[\"weight\"]\n",
        "    height=data[\"height\"]\n",
        "\n",
        "    abilities=[]\n",
        "    for skill in data[\"abilities\"]:\n",
        "        abilities.append(skill[\"ability\"][\"name\"])\n",
        "\n",
        "    message=f'Имя покемона:{name}\\\n",
        "    тип:{\", \".join(tipes)}\\\n",
        "    вес:{wight}\\\n",
        "    рост:{height}\\\n",
        "    способности:{\", \".join(abilities)}'\n",
        "\n",
        "    return message\n",
        "\n",
        "def main():\n",
        "    url=\"https://pokeapi.co/api/v2/pokemon?limit=20\"\n",
        "    data = send_requests(url)\n",
        "    message = more_info(data)\n",
        "    pokemons_names=names(data)\n",
        "    print(pokemons_names)\n",
        "    name=input(\"Введите название покемона \")\n",
        "    print(message)\n",
        "\n",
        "\n",
        "main()\n"
      ],
      "metadata": {
        "id": "JkFmivjp25NL",
        "colab": {
          "base_uri": "https://localhost:8080/",
          "height": 365
        },
        "outputId": "d3e94740-887d-40f0-8adc-8452b0720008"
      },
      "execution_count": null,
      "outputs": [
        {
          "output_type": "error",
          "ename": "NameError",
          "evalue": "name 'name' is not defined",
          "traceback": [
            "\u001b[0;31m---------------------------------------------------------------------------\u001b[0m",
            "\u001b[0;31mNameError\u001b[0m                                 Traceback (most recent call last)",
            "\u001b[0;32m<ipython-input-11-007d36b19470>\u001b[0m in \u001b[0;36m<cell line: 49>\u001b[0;34m()\u001b[0m\n\u001b[1;32m     47\u001b[0m \u001b[0;34m\u001b[0m\u001b[0m\n\u001b[1;32m     48\u001b[0m \u001b[0;34m\u001b[0m\u001b[0m\n\u001b[0;32m---> 49\u001b[0;31m \u001b[0mmain\u001b[0m\u001b[0;34m(\u001b[0m\u001b[0;34m)\u001b[0m\u001b[0;34m\u001b[0m\u001b[0;34m\u001b[0m\u001b[0m\n\u001b[0m",
            "\u001b[0;32m<ipython-input-11-007d36b19470>\u001b[0m in \u001b[0;36mmain\u001b[0;34m()\u001b[0m\n\u001b[1;32m     40\u001b[0m     \u001b[0murl\u001b[0m\u001b[0;34m=\u001b[0m\u001b[0;34m\"https://pokeapi.co/api/v2/pokemon?limit=20\"\u001b[0m\u001b[0;34m\u001b[0m\u001b[0;34m\u001b[0m\u001b[0m\n\u001b[1;32m     41\u001b[0m     \u001b[0mdata\u001b[0m \u001b[0;34m=\u001b[0m \u001b[0msend_requests\u001b[0m\u001b[0;34m(\u001b[0m\u001b[0murl\u001b[0m\u001b[0;34m)\u001b[0m\u001b[0;34m\u001b[0m\u001b[0;34m\u001b[0m\u001b[0m\n\u001b[0;32m---> 42\u001b[0;31m     \u001b[0mmessage\u001b[0m \u001b[0;34m=\u001b[0m \u001b[0mmore_info\u001b[0m\u001b[0;34m(\u001b[0m\u001b[0mdata\u001b[0m\u001b[0;34m)\u001b[0m\u001b[0;34m\u001b[0m\u001b[0;34m\u001b[0m\u001b[0m\n\u001b[0m\u001b[1;32m     43\u001b[0m     \u001b[0mpokemons_names\u001b[0m\u001b[0;34m=\u001b[0m\u001b[0mnames\u001b[0m\u001b[0;34m(\u001b[0m\u001b[0mdata\u001b[0m\u001b[0;34m)\u001b[0m\u001b[0;34m\u001b[0m\u001b[0;34m\u001b[0m\u001b[0m\n\u001b[1;32m     44\u001b[0m     \u001b[0mprint\u001b[0m\u001b[0;34m(\u001b[0m\u001b[0mpokemons_names\u001b[0m\u001b[0;34m)\u001b[0m\u001b[0;34m\u001b[0m\u001b[0;34m\u001b[0m\u001b[0m\n",
            "\u001b[0;32m<ipython-input-11-007d36b19470>\u001b[0m in \u001b[0;36mmore_info\u001b[0;34m(pokemons_names)\u001b[0m\n\u001b[1;32m     16\u001b[0m \u001b[0;34m\u001b[0m\u001b[0m\n\u001b[1;32m     17\u001b[0m \u001b[0;32mdef\u001b[0m \u001b[0mmore_info\u001b[0m\u001b[0;34m(\u001b[0m\u001b[0mpokemons_names\u001b[0m\u001b[0;34m)\u001b[0m\u001b[0;34m:\u001b[0m\u001b[0;34m\u001b[0m\u001b[0;34m\u001b[0m\u001b[0m\n\u001b[0;32m---> 18\u001b[0;31m     \u001b[0murl\u001b[0m\u001b[0;34m=\u001b[0m\u001b[0;34mf'https://pokeapi.co/api/v2/pokemon/{name}/'\u001b[0m\u001b[0;34m\u001b[0m\u001b[0;34m\u001b[0m\u001b[0m\n\u001b[0m\u001b[1;32m     19\u001b[0m     \u001b[0mtipes\u001b[0m\u001b[0;34m=\u001b[0m\u001b[0;34m[\u001b[0m\u001b[0;34m]\u001b[0m\u001b[0;34m\u001b[0m\u001b[0;34m\u001b[0m\u001b[0m\n\u001b[1;32m     20\u001b[0m     \u001b[0;32mfor\u001b[0m \u001b[0mspecies\u001b[0m \u001b[0;32min\u001b[0m \u001b[0mdata\u001b[0m\u001b[0;34m[\u001b[0m\u001b[0;34m\"types\"\u001b[0m\u001b[0;34m]\u001b[0m\u001b[0;34m:\u001b[0m\u001b[0;34m\u001b[0m\u001b[0;34m\u001b[0m\u001b[0m\n",
            "\u001b[0;31mNameError\u001b[0m: name 'name' is not defined"
          ]
        }
      ]
    },
    {
      "cell_type": "markdown",
      "source": [
        "## Задание 3. HTTP-запросы, ответы и посты"
      ],
      "metadata": {
        "id": "Ci07uZdADue9"
      }
    },
    {
      "cell_type": "markdown",
      "source": [
        "**Описание:**\n",
        "\n",
        "Создайте программу, которая будет взаимодействовать с JSONPlaceholder API, реализуя следующие функции:\n",
        "\n",
        "1. Реализуйте функцию, которая выполняет GET-запрос к https://jsonplaceholder.typicode.com/posts и возвращает список постов в формате JSON\n",
        "\n",
        "2. Реализуйте функцию, котороая получает вводимое ID поста, выполняет GET-запрос по ID и возвращает данные поста в формате JSON\n",
        "\n",
        "3. Реализуйте функцию, которая выполняет обработку JSON из пункта 2 и выводит всю важную информацию в консоль"
      ],
      "metadata": {
        "id": "h194KTer1-B3"
      }
    },
    {
      "cell_type": "code",
      "source": [
        "import requests\n",
        "\n",
        "\n",
        "def send_request(url):\n",
        "    response = requests.get(url)\n",
        "\n",
        "    if response.status_code == 200:\n",
        "        return response.json()\n",
        "    else:\n",
        "        return []\n",
        "\n",
        "\n",
        "def get_id_post(post_id):\n",
        "    url = f'https://jsonplaceholder.typicode.com/posts/{post_id}'\n",
        "    return send_request(url)\n",
        "\n",
        "\n",
        "def main():\n",
        "    post_id=input('Введите ID ')\n",
        "    post_data=get_id_post(post_id)\n",
        "    title = post_data.get('title', 'Заголовок не найден')\n",
        "    body=post_data.get('body','Заголовок не найден')\n",
        "\n",
        "    if post_data:\n",
        "        print(post_data)\n",
        "        message=f'ID {post_id} заголовок {title} body {body}'\n",
        "        print(f'ID :{post_id}')\n",
        "        print(f'Заголовок: {title}')\n",
        "        print(f'Body: {body}')\n",
        "        #print(message)\n",
        "    else:\n",
        "        print(\"ID не найдено\")\n",
        "\n",
        "\n",
        "main()"
      ],
      "metadata": {
        "id": "YANQx4o258Zn",
        "colab": {
          "base_uri": "https://localhost:8080/"
        },
        "outputId": "80d0a1b5-f0b4-4d3d-cb8b-74e563cd5b9b"
      },
      "execution_count": null,
      "outputs": [
        {
          "output_type": "stream",
          "name": "stdout",
          "text": [
            "Введите ID 4\n",
            "{'userId': 1, 'id': 4, 'title': 'eum et est occaecati', 'body': 'ullam et saepe reiciendis voluptatem adipisci\\nsit amet autem assumenda provident rerum culpa\\nquis hic commodi nesciunt rem tenetur doloremque ipsam iure\\nquis sunt voluptatem rerum illo velit'}\n",
            "ID :4\n",
            "Заголовок: eum et est occaecati\n",
            "Body: ullam et saepe reiciendis voluptatem adipisci\n",
            "sit amet autem assumenda provident rerum culpa\n",
            "quis hic commodi nesciunt rem tenetur doloremque ipsam iure\n",
            "quis sunt voluptatem rerum illo velit\n"
          ]
        }
      ]
    },
    {
      "cell_type": "code",
      "source": [],
      "metadata": {
        "id": "Roj0r1cQhnP6"
      },
      "execution_count": null,
      "outputs": []
    },
    {
      "cell_type": "markdown",
      "source": [
        "## Задание 4. HTTP-запросы, ответы и работа с постами"
      ],
      "metadata": {
        "id": "rtwepQvJDy9N"
      }
    },
    {
      "cell_type": "markdown",
      "source": [
        "**Описание**\n",
        "\n",
        "Создайте программу, которая будет взаимодействовать с JSONPlaceholder API (из предыдущего задания), реализуя новые функции:\n",
        "\n",
        "1. Реализуйте функцию, которая принимает заголовок, содержимое и ID пользователя (информация вводится с помощью input()), выполняет POST-запрос для создания нового поста и возвращает информацию о созданном посте в формате JSON\n",
        "\n",
        "\n",
        "```\n",
        "Заголовок: Новый пост\n",
        "Содержимое поста: Тут должно находиться содержимое нового поста...\n",
        "ID пользователя: 10\n",
        "```\n",
        "\n",
        "\n",
        "\n",
        "2. Реализуйте функцию, которая принимает ID поста, новый заголовок и новое содержимое, выполняет PUT-запрос и возвращает обновлённый пост в формате JSON\n",
        "\n",
        "3. Реализуйте функцию, которая принимает ID поста, выполняет DELETE-запрос и возвращает статус-код ответа"
      ],
      "metadata": {
        "id": "4MjiaxDM58ta"
      }
    },
    {
      "cell_type": "code",
      "source": [
        "import requests\n",
        "def send_request(url):\n",
        "    response = requests.get(url)\n",
        "    if response.status_code == 200:\n",
        "        return response.json()\n",
        "    else:\n",
        "        return []\n",
        "\n",
        "\n",
        "def get_id_post(post_id):\n",
        "    url = f'https://jsonplaceholder.typicode.com/posts/{post_id}'\n",
        "    return send_request(url)\n",
        "\n",
        "\n",
        "def new_post():\n",
        "    title = input('Введите заголовок поста: ')\n",
        "    body = input('Введите содержимое поста: ')\n",
        "    user_id = input('Введите ID пользователя: ')\n",
        "    post_data = {\n",
        "        'title': title,\n",
        "        'body': body,\n",
        "        'userId': user_id\n",
        "    }\n",
        "    url = 'https://jsonplaceholder.typicode.com/posts'\n",
        "    response = requests.post(url, json=post_data)\n",
        "    if response.status_code == 200:\n",
        "        return response.json()\n",
        "\n",
        "\n",
        "def update_post(post_id):\n",
        "    new_title = input('Введите новый заголовок: ')\n",
        "    new_body = input('Введите новое содержимое поста: ')\n",
        "    url = f'https://jsonplaceholder.typicode.com/posts/{post_id}'\n",
        "    updated_data = {\n",
        "        'title': new_title,\n",
        "        'body': new_body,\n",
        "        'userId': post_id\n",
        "    }\n",
        "    response = requests.put(url, json=updated_data)\n",
        "\n",
        "    if response.status_code == 200 or response.status_code == 202:\n",
        "        return response.json()\n",
        "\n",
        "def delete_post(post_id):\n",
        "    url = f'https://jsonplaceholder.typicode.com/posts/{post_id}'\n",
        "    response = requests.delete(url)\n",
        "    return response.status_code\n",
        "\n",
        "\n",
        "def main():\n",
        "    post_id = input('Введите ID поста для получения: ')\n",
        "    post_data = get_id_post(post_id)\n",
        "    title = post_data.get('title', 'Заголовок не найден')\n",
        "    body = post_data.get('body', 'Содержимое не найдено')\n",
        "\n",
        "    if post_data:\n",
        "        print(f'ID: {post_id}')\n",
        "        print(f'Заголовок: {title}')\n",
        "        print(f'Содержимое: {body}')\n",
        "\n",
        "    print(\"Создание нового поста:\")\n",
        "    created_post = new_post()\n",
        "\n",
        "    if created_post:\n",
        "        print(\"Созданный пост:\", created_post)\n",
        "    post_id_to_update = input('Введите ID поста для обновления: ')\n",
        "    updated_post = update_post(post_id_to_update)\n",
        "\n",
        "    if updated_post:\n",
        "        print(\"Обновленный пост:\", updated_post)\n",
        "    post_id_to_delete = input('Введите ID поста для удаления: ')\n",
        "    status_code = delete_post(post_id_to_delete)\n",
        "    print(f'{post_id_to_delete}: {status_code}')\n",
        "\n",
        "\n",
        "main()"
      ],
      "metadata": {
        "id": "jZUIdwq96DNl",
        "colab": {
          "base_uri": "https://localhost:8080/"
        },
        "outputId": "e4e2f345-78ec-4fde-aeac-1096f8474234"
      },
      "execution_count": null,
      "outputs": [
        {
          "output_type": "stream",
          "name": "stdout",
          "text": [
            "Введите ID поста для получения: 4\n",
            "ID: 4\n",
            "Заголовок: eum et est occaecati\n",
            "Содержимое: ullam et saepe reiciendis voluptatem adipisci\n",
            "sit amet autem assumenda provident rerum culpa\n",
            "quis hic commodi nesciunt rem tenetur doloremque ipsam iure\n",
            "quis sunt voluptatem rerum illo velit\n",
            "Создание нового поста:\n",
            "Введите заголовок поста: giqebgioboiqwbgro\n",
            "Введите содержимое поста: orhwgouwrwgwrng\n",
            "Введите ID пользователя: 4\n",
            "Введите ID поста для обновления: 4\n",
            "Введите новый заголовок: weg;nw;gnw;g\n",
            "Введите новое содержимое поста: nlkbwkenlkgbwklbg\n",
            "Обновленный пост: {'title': 'weg;nw;gnw;g', 'body': 'nlkbwkenlkgbwklbg', 'userId': '4', 'id': 4}\n",
            "Введите ID поста для удаления: 4\n",
            "4: 200\n"
          ]
        }
      ]
    },
    {
      "cell_type": "code",
      "source": [],
      "metadata": {
        "id": "vEqVj2sE6VTv"
      },
      "execution_count": null,
      "outputs": []
    },
    {
      "cell_type": "markdown",
      "source": [
        "## Задание 5. HTTP-запросы, ответы и пёсики"
      ],
      "metadata": {
        "id": "0UoRc9vOD3XT"
      }
    },
    {
      "cell_type": "markdown",
      "source": [
        "**Описание**\n",
        "\n",
        "Создайте программу, которая будет взаимодействовать с Dog API, которая позволит получать список пород собак, вводить несколько пород и получать их фотогрфии.\n",
        "\n",
        "Этапы:\n",
        "\n",
        "1. Создайте функцию, которая использует метод GET и возвращает список всех пород собак в формате нумерованного списка\n",
        "\n",
        "2. Реализуйте возможность ввода нескольких пород собак через запятую\n",
        "\n",
        "\n",
        "```\n",
        "african, chow, dingo\n",
        "```\n",
        "\n",
        "\n",
        "\n",
        "3. Создание функции, которая реализует запрос, возвращает и выводит изображениия собак, породы которых были введены до этого\n",
        "\n",
        "\n",
        "Используйте Dog API (https://dog.ceo/dog-api/), который предоставляет информацию о породах собак и их изображения.\n"
      ],
      "metadata": {
        "id": "y0EyPsFQ6mSZ"
      }
    },
    {
      "cell_type": "markdown",
      "source": [
        "*Подсказка*\n",
        "\n",
        "\n",
        "\n",
        "```\n",
        "import requests\n",
        "from PIL import Image\n",
        "from IPython.display import display\n",
        "import io\n",
        "\n",
        "url = <____>\n",
        "response = <____>\n",
        "        \n",
        "if response.<______> == <___>:\n",
        "      image_url = response.json()['message']\n",
        "\n",
        "res = requests.<__>(image_url)\n",
        "img = Image.open(io.BytesIO(res.content))\n",
        "display(img)\n",
        "```\n",
        "\n"
      ],
      "metadata": {
        "id": "yrKv5k13AKEP"
      }
    },
    {
      "cell_type": "code",
      "source": [],
      "metadata": {
        "id": "5xti3KRP4Kzp"
      },
      "execution_count": null,
      "outputs": []
    }
  ]
}