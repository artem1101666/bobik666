{
  "nbformat": 4,
  "nbformat_minor": 0,
  "metadata": {
    "colab": {
      "provenance": [],
      "include_colab_link": true
    },
    "kernelspec": {
      "name": "python3",
      "display_name": "Python 3"
    },
    "language_info": {
      "name": "python"
    }
  },
  "cells": [
    {
      "cell_type": "markdown",
      "metadata": {
        "id": "view-in-github",
        "colab_type": "text"
      },
      "source": [
        "<a href=\"https://colab.research.google.com/github/artem1101666/bobik666/blob/main/%D0%9A%D0%BE%D0%BF%D0%B8%D1%8F_%D0%B1%D0%BB%D0%BE%D0%BA%D0%BD%D0%BE%D1%82%D0%B0_%22%D0%9F%D1%80%D0%B0%D0%BA%D1%82%D0%B8%D0%BA%D0%B0_0_3_0_ipynb%22.ipynb\" target=\"_parent\"><img src=\"https://colab.research.google.com/assets/colab-badge.svg\" alt=\"Open In Colab\"/></a>"
      ]
    },
    {
      "cell_type": "markdown",
      "source": [
        "ФИО"
      ],
      "metadata": {
        "id": "phMKaFq3DN13"
      }
    },
    {
      "cell_type": "code",
      "execution_count": null,
      "metadata": {
        "id": "3CWpaI7SDK8t"
      },
      "outputs": [],
      "source": [
        "Синцов Артемий Владимирович"
      ]
    },
    {
      "cell_type": "markdown",
      "source": [
        "**Во всей практике нельзя применять библиотеки предоставляющие готовые решения!**"
      ],
      "metadata": {
        "id": "jyIy3GOgFOCe"
      }
    },
    {
      "cell_type": "markdown",
      "source": [
        "# **Задача 1.**\n"
      ],
      "metadata": {
        "id": "XizmlL1RK2t3"
      }
    },
    {
      "cell_type": "markdown",
      "source": [
        "\n",
        "\n",
        "Типы данных Напишите программу на Python, которая принимает список чисел в качестве входных данных от пользователя, а затем выводит сумму, среднее значение и максимальное значение из списка.\n",
        "\n",
        "***Нельзя использовать: len(), min(), max(), average(), sum()***\n",
        "\n",
        "Дано:\n",
        "```\n",
        "1 2 3 4 5 6 7\n",
        "```\n",
        "Вывод:\n",
        "\n",
        "```\n",
        "Сумма чисел: 28\n",
        "Среднее арифм.: 4.0\n",
        "Максимальное значение: 7\n",
        "```\n",
        "\n"
      ],
      "metadata": {
        "id": "p0v6KtHTFKSd"
      }
    },
    {
      "cell_type": "code",
      "source": [
        "a=[1,2,3,4,5,6,7]\n",
        "summ=0\n",
        "cnt=0\n",
        "maxx=0\n",
        "for i in a:\n",
        "   summ+=(i)\n",
        "   cnt+=1\n",
        "   if (i) > maxx :\n",
        "    maxx=i\n",
        "print(summ,summ/cnt,maxx)\n",
        "\n",
        "\n",
        "\n"
      ],
      "metadata": {
        "id": "0e1Virl0FpF6",
        "outputId": "18b27629-0fde-456a-ea9d-c6d36fe53d85",
        "colab": {
          "base_uri": "https://localhost:8080/"
        }
      },
      "execution_count": null,
      "outputs": [
        {
          "output_type": "stream",
          "name": "stdout",
          "text": [
            "28 4.0 7\n"
          ]
        }
      ]
    },
    {
      "cell_type": "markdown",
      "source": [
        "# **Задача 2.**"
      ],
      "metadata": {
        "id": "uFluc5OSK0NH"
      }
    },
    {
      "cell_type": "markdown",
      "source": [
        "\n",
        "Напишите программу на Python, которая принимает список слов в качестве входных данных от пользователя, а затем распечатывает список в обратном порядке.\n",
        "\n",
        "Ввод:\n",
        "\n",
        "```\n",
        "апельсин мандарин яблоко\n",
        "```\n",
        "\n",
        "Вывод:\n",
        "\n",
        "```\n",
        "яблоко мандарин апельсин\n",
        "```"
      ],
      "metadata": {
        "id": "6T8vg324GG4Z"
      }
    },
    {
      "cell_type": "code",
      "source": [
        "a=input(\"Введите список слов через пробел: \")\n",
        "b=a.split()[::-1]\n",
        "print(\" \".join(b))\n"
      ],
      "metadata": {
        "id": "v3AWj4ufGKox",
        "outputId": "2bc61993-90af-4f0e-9689-3e7fc90f6185",
        "colab": {
          "base_uri": "https://localhost:8080/"
        }
      },
      "execution_count": null,
      "outputs": [
        {
          "output_type": "stream",
          "name": "stdout",
          "text": [
            "Введите список слов через пробел: апельсин мандарин яблоко \n",
            "яблоко мандарин апельсин\n"
          ]
        }
      ]
    },
    {
      "cell_type": "markdown",
      "source": [
        "# **Задача 3**"
      ],
      "metadata": {
        "id": "D1KkCxtIKxRx"
      }
    },
    {
      "cell_type": "markdown",
      "source": [
        "Простой чат-бот\n",
        "Создайте простого чат-бота, который отвечает на основные запросы пользователей. Программа должна использовать условные выражения для определения намерений пользователя и последующего соответствующего ответа.\n",
        "\n",
        "Чат бот может:\n",
        "\n",
        "- помогать складывать числа\n",
        "- подсказывать фильм, музыку и тд (из заранее созданного списка)\n",
        "- создавать список дел (а также выводить его, обновлять, очищать)\n",
        "\n",
        "Интерфейс чат-бота на ваше усмотрение, это могут быть как заранее определенные команды, так и к примеру вызов команды по номеру\n",
        "\n",
        "*Реализовать без использования функций*\n",
        "\n",
        "Пример:\n",
        "\n",
        "Ввод:\n",
        "\n",
        "```\n",
        "Олег, какую мызыку посоветуешь?\n",
        "```\n",
        "\n",
        "Вывод:\n",
        "\n",
        "```\n",
        "Я бы посоветовал вам: Led Zeppelin Stairway to Heaven\n",
        "```"
      ],
      "metadata": {
        "id": "Yq8Jgb9yHvSi"
      }
    },
    {
      "cell_type": "code",
      "source": [
        "import random\n",
        "music = [\"Шаман - Я русский\"]\n",
        "films = [\"1+1\"]\n",
        "to_do_list = []\n",
        "start = input(\"Введите запрос:\")\n",
        "r1 = random.choice(music)\n",
        "r2 = random.choice(films)\n",
        "command=start.split()\n",
        "if \"сложи\" in command:\n",
        "    numbers = input('Введите числа ')\n",
        "    new_numbers = list(map(int, numbers.split()))\n",
        "    summ = sum(new_numbers)\n",
        "    print(f\"Сумма: {summ}\")\n",
        "elif \"музыку\" in command:\n",
        "    print(\"Я бы посоветовал вам\", r1)\n",
        "elif \"фильм\" in command:\n",
        "    print(\"Я бы посоветовал вам\", r2)\n",
        "elif \"создай\" in command:\n",
        "    to_do_list = []\n",
        "    print('Список успешно создан')\n",
        "elif \"выведи\" in command:\n",
        "    if not to_do_list:\n",
        "        print(\"Список дел пуст\")\n",
        "    else:\n",
        "        print(\"Ваш список дел\")\n",
        "        for item in to_do_list:\n",
        "            print(\"- \" + item)\n",
        "elif \"обнови\" in command:\n",
        "    new_task = input(\"Введите новые задания\")\n",
        "    to_do_list.append(new_task)\n",
        "    print(f\"Задание '{new_task}' добавлено\")\n",
        "elif \"очисти\" in command:\n",
        "    to_do_list.clear()\n",
        "    print(\"Список дел очищен\")\n",
        "else:\n",
        "    print(\"Команда не распознана\")\n",
        "\n",
        "\n",
        "\n"
      ],
      "metadata": {
        "id": "fmW-tmUtINN9",
        "colab": {
          "base_uri": "https://localhost:8080/"
        },
        "outputId": "ada1e376-1d45-4b3f-ffea-4d034b96b5e0"
      },
      "execution_count": null,
      "outputs": [
        {
          "output_type": "stream",
          "name": "stdout",
          "text": [
            "Введите запрос: создай список\n",
            "Список успешно создан\n"
          ]
        }
      ]
    },
    {
      "cell_type": "markdown",
      "source": [
        "# **Задача 4.**\n"
      ],
      "metadata": {
        "id": "PHXBfyc6Ko7D"
      }
    },
    {
      "cell_type": "markdown",
      "source": [
        "Камень, ножницы, бумага\n",
        "\n",
        "Создайте игру в Камень, ножницы, бумагу, в которой пользователь может играть против компьютера. Программа должна запросить выбор пользователя, а затем сгенерировать выбор компьютера. Затем программа должна определить победителя на основе правил игры.\n",
        "\n",
        "**Этап 1:**\n",
        "\n",
        "Определение победителя\n",
        "\n",
        "**Этап 2:**\n",
        "  \n",
        "Игра до 3 побед\n",
        "\n",
        "\n",
        "Ввод для \"Этап 1\":\n",
        "\n",
        "```\n",
        "Камень\n",
        "```\n",
        "\n",
        "Вывод:\n",
        "\n",
        "```\n",
        "Компьютер: Ножницы\n",
        "Игрок: Камень\n",
        "Победа: Игрок\n",
        "```"
      ],
      "metadata": {
        "id": "jnKWeYleI0j6"
      }
    },
    {
      "cell_type": "code",
      "source": [
        "a=input('введите ')\n",
        "winsc=0\n",
        "cnt=0\n",
        "winsp=0\n",
        "option=['камень','ножницы','бумага']\n",
        "r=random.choice(option)\n",
        "if r==a:\n",
        "  cnt+=1\n",
        "  print(cnt,a,r,'ничья')\n",
        "elif r=='камень' and a=='ножницы' or r=='ножницы' and a=='бумага' or r=='бумага' and a=='камень':\n",
        "  winsc+=1\n",
        "  cnt+=1\n",
        "  print(cnt,a,r,'u lose')\n",
        "else :\n",
        "  winsp+=1\n",
        "  cnt+=1\n",
        "  print(cnt,a,r,'u win')\n",
        "b=input('введите ')\n",
        "if r==b:\n",
        "  cnt+=1\n",
        "  print(cnt,b,r,'ничья')\n",
        "elif r=='камень' and b=='ножницы' or r=='ножницы' and b=='бумага' or r=='бумага' and b=='камень':\n",
        "  winsc+=1\n",
        "  cnt+=1\n",
        "  print(cnt,a,r,'u lose')\n",
        "else :\n",
        "  winsp+=1\n",
        "  cnt+=1\n",
        "  print(cnt,b,r,'u win')\n",
        "с=input('введите ')\n",
        "if r==с:\n",
        "  cnt+=1\n",
        "  print(cnt,с,r,'ничья')\n",
        "elif r=='камень' and с=='ножницы' or r=='ножницы' and с=='бумага' or r=='бумага' and с=='камень':\n",
        "  winsc+=1\n",
        "  cnt+=1\n",
        "  print(cnt,с,r,'u lose')\n",
        "else :\n",
        "  winsp+=1\n",
        "  cnt+=1\n",
        "  print(cnt,с,r,'u win')\n",
        "if winsc>=3:\n",
        "  print(winsc,'u lose this game')\n",
        "if winsp>=3:\n",
        "  print(winsp,'u win this game')\n",
        "if winsc<3 and winsp<3:\n",
        " d=input('введите ')\n",
        " if r==d:\n",
        "   cnt+=1\n",
        "   print(cnt,d,r,'ничья')\n",
        " elif r=='камень' and d=='ножницы' or r=='ножницы' and d=='бумага' or r=='бумага' and d=='камень':\n",
        "   winsc+=1\n",
        "   cnt+=1\n",
        "   print(cnt,d,r,'u lose')\n",
        " else :\n",
        "   winsp+=1\n",
        "   cnt+=1\n",
        "   print(cnt,d,r,'u win')\n",
        " if winsc>=3:\n",
        "   print(winsc,'u lose this game')\n",
        " if winsp>=3:\n",
        "   print(winsp,'u win this game')\n",
        "if winsc<3 and winsp<3:\n",
        " f=input('введите ')\n",
        " if r==f:\n",
        "   cnt+=1\n",
        "   print(cnt,f,r,'ничья')\n",
        " elif r=='камень' and f=='ножницы' or r=='ножницы' and f=='бумага' or r=='бумага' and f=='камень':\n",
        "   winsc+=1\n",
        "   cnt+=1\n",
        "   print(cnt,f,r,'u lose')\n",
        " else :\n",
        "   winsp+=1\n",
        "   cnt+=1\n",
        "   print(cnt,f,r,'u win')\n",
        " if winsc>=3:\n",
        "   print(winsc,'u lose this game')\n",
        " if winsp>=3:\n",
        "   print(winsp,'u win this game')\n",
        "\n"
      ],
      "metadata": {
        "id": "ooIPCRe_JHkX",
        "outputId": "68ed487b-d45a-48cd-a658-ce376fd055b1",
        "colab": {
          "base_uri": "https://localhost:8080/",
          "height": 460
        }
      },
      "execution_count": null,
      "outputs": [
        {
          "output_type": "stream",
          "name": "stdout",
          "text": [
            "введите  камень\n",
            "1  камень ножницы u win\n",
            "введите ножницы\n",
            "2 ножницы ножницы ничья\n",
            "введите  бумага\n",
            "3  бумага ножницы u win\n"
          ]
        },
        {
          "output_type": "error",
          "ename": "KeyboardInterrupt",
          "evalue": "Interrupted by user",
          "traceback": [
            "\u001b[0;31m---------------------------------------------------------------------------\u001b[0m",
            "\u001b[0;31mKeyboardInterrupt\u001b[0m                         Traceback (most recent call last)",
            "\u001b[0;32m<ipython-input-49-8d2fe629fbf7>\u001b[0m in \u001b[0;36m<cell line: 46>\u001b[0;34m()\u001b[0m\n\u001b[1;32m     45\u001b[0m   \u001b[0mprint\u001b[0m\u001b[0;34m(\u001b[0m\u001b[0mwinsp\u001b[0m\u001b[0;34m,\u001b[0m\u001b[0;34m'u win this game'\u001b[0m\u001b[0;34m)\u001b[0m\u001b[0;34m\u001b[0m\u001b[0;34m\u001b[0m\u001b[0m\n\u001b[1;32m     46\u001b[0m \u001b[0;32mif\u001b[0m \u001b[0mwinsc\u001b[0m\u001b[0;34m<\u001b[0m\u001b[0;36m3\u001b[0m \u001b[0;32mand\u001b[0m \u001b[0mwinsp\u001b[0m\u001b[0;34m<\u001b[0m\u001b[0;36m3\u001b[0m\u001b[0;34m:\u001b[0m\u001b[0;34m\u001b[0m\u001b[0;34m\u001b[0m\u001b[0m\n\u001b[0;32m---> 47\u001b[0;31m  \u001b[0md\u001b[0m\u001b[0;34m=\u001b[0m\u001b[0minput\u001b[0m\u001b[0;34m(\u001b[0m\u001b[0;34m'введите '\u001b[0m\u001b[0;34m)\u001b[0m\u001b[0;34m\u001b[0m\u001b[0;34m\u001b[0m\u001b[0m\n\u001b[0m\u001b[1;32m     48\u001b[0m  \u001b[0;32mif\u001b[0m \u001b[0mr\u001b[0m\u001b[0;34m==\u001b[0m\u001b[0md\u001b[0m\u001b[0;34m:\u001b[0m\u001b[0;34m\u001b[0m\u001b[0;34m\u001b[0m\u001b[0m\n\u001b[1;32m     49\u001b[0m    \u001b[0mcnt\u001b[0m\u001b[0;34m+=\u001b[0m\u001b[0;36m1\u001b[0m\u001b[0;34m\u001b[0m\u001b[0;34m\u001b[0m\u001b[0m\n",
            "\u001b[0;32m/usr/local/lib/python3.10/dist-packages/ipykernel/kernelbase.py\u001b[0m in \u001b[0;36mraw_input\u001b[0;34m(self, prompt)\u001b[0m\n\u001b[1;32m    849\u001b[0m                 \u001b[0;34m\"raw_input was called, but this frontend does not support input requests.\"\u001b[0m\u001b[0;34m\u001b[0m\u001b[0;34m\u001b[0m\u001b[0m\n\u001b[1;32m    850\u001b[0m             )\n\u001b[0;32m--> 851\u001b[0;31m         return self._input_request(str(prompt),\n\u001b[0m\u001b[1;32m    852\u001b[0m             \u001b[0mself\u001b[0m\u001b[0;34m.\u001b[0m\u001b[0m_parent_ident\u001b[0m\u001b[0;34m,\u001b[0m\u001b[0;34m\u001b[0m\u001b[0;34m\u001b[0m\u001b[0m\n\u001b[1;32m    853\u001b[0m             \u001b[0mself\u001b[0m\u001b[0;34m.\u001b[0m\u001b[0m_parent_header\u001b[0m\u001b[0;34m,\u001b[0m\u001b[0;34m\u001b[0m\u001b[0;34m\u001b[0m\u001b[0m\n",
            "\u001b[0;32m/usr/local/lib/python3.10/dist-packages/ipykernel/kernelbase.py\u001b[0m in \u001b[0;36m_input_request\u001b[0;34m(self, prompt, ident, parent, password)\u001b[0m\n\u001b[1;32m    893\u001b[0m             \u001b[0;32mexcept\u001b[0m \u001b[0mKeyboardInterrupt\u001b[0m\u001b[0;34m:\u001b[0m\u001b[0;34m\u001b[0m\u001b[0;34m\u001b[0m\u001b[0m\n\u001b[1;32m    894\u001b[0m                 \u001b[0;31m# re-raise KeyboardInterrupt, to truncate traceback\u001b[0m\u001b[0;34m\u001b[0m\u001b[0;34m\u001b[0m\u001b[0m\n\u001b[0;32m--> 895\u001b[0;31m                 \u001b[0;32mraise\u001b[0m \u001b[0mKeyboardInterrupt\u001b[0m\u001b[0;34m(\u001b[0m\u001b[0;34m\"Interrupted by user\"\u001b[0m\u001b[0;34m)\u001b[0m \u001b[0;32mfrom\u001b[0m \u001b[0;32mNone\u001b[0m\u001b[0;34m\u001b[0m\u001b[0;34m\u001b[0m\u001b[0m\n\u001b[0m\u001b[1;32m    896\u001b[0m             \u001b[0;32mexcept\u001b[0m \u001b[0mException\u001b[0m \u001b[0;32mas\u001b[0m \u001b[0me\u001b[0m\u001b[0;34m:\u001b[0m\u001b[0;34m\u001b[0m\u001b[0;34m\u001b[0m\u001b[0m\n\u001b[1;32m    897\u001b[0m                 \u001b[0mself\u001b[0m\u001b[0;34m.\u001b[0m\u001b[0mlog\u001b[0m\u001b[0;34m.\u001b[0m\u001b[0mwarning\u001b[0m\u001b[0;34m(\u001b[0m\u001b[0;34m\"Invalid Message:\"\u001b[0m\u001b[0;34m,\u001b[0m \u001b[0mexc_info\u001b[0m\u001b[0;34m=\u001b[0m\u001b[0;32mTrue\u001b[0m\u001b[0;34m)\u001b[0m\u001b[0;34m\u001b[0m\u001b[0;34m\u001b[0m\u001b[0m\n",
            "\u001b[0;31mKeyboardInterrupt\u001b[0m: Interrupted by user"
          ]
        }
      ]
    },
    {
      "cell_type": "markdown",
      "source": [
        "# **Задача 6.**"
      ],
      "metadata": {
        "id": "Hg4FJNFbLHQO"
      }
    },
    {
      "cell_type": "markdown",
      "source": [
        "Создайте игру \"Палач\" или \"Виселица\", в которой пользователь должен угадать слово, предлагая буквы. Программа должна выбрать случайное слово, а затем разрешить пользователю угадывать буквы. После каждого угадывания программа должна сообщать пользователю, есть ли в слове буква или нет.\n",
        "\n",
        "**Этап 1**\n",
        "Создать саму игру\n",
        "\n",
        "**Этап 2:**\n",
        "Ввести подсчет количества очков и ограничения на попытки\n",
        "\n",
        "**Этап 3:** Добавить возможность сразу угадать слово"
      ],
      "metadata": {
        "id": "OHqj3HJuLJgY"
      }
    },
    {
      "cell_type": "code",
      "source": [
        "word_to_guess = choose_word()\n",
        "guessed_letters = set()\n",
        "attempts = 6\n",
        "score = 0\n",
        "print(\"Добро пожаловать в игру Виселица \")"
      ],
      "metadata": {
        "id": "0N2zCYwVLiIw",
        "outputId": "86cf55b6-3ce4-4258-d090-3029dbaaf2b5",
        "colab": {
          "base_uri": "https://localhost:8080/",
          "height": 105
        }
      },
      "execution_count": null,
      "outputs": [
        {
          "output_type": "error",
          "ename": "SyntaxError",
          "evalue": "invalid syntax (<ipython-input-61-05069991f501>, line 11)",
          "traceback": [
            "\u001b[0;36m  File \u001b[0;32m\"<ipython-input-61-05069991f501>\"\u001b[0;36m, line \u001b[0;32m11\u001b[0m\n\u001b[0;31m    print(                                      |\u001b[0m\n\u001b[0m                                                ^\u001b[0m\n\u001b[0;31mSyntaxError\u001b[0m\u001b[0;31m:\u001b[0m invalid syntax\n"
          ]
        }
      ]
    },
    {
      "cell_type": "markdown",
      "source": [],
      "metadata": {
        "id": "y7v_HycLDUtg"
      }
    },
    {
      "cell_type": "markdown",
      "source": [],
      "metadata": {
        "id": "j78IxJARDUY6"
      }
    },
    {
      "cell_type": "markdown",
      "source": [
        "# **Дополнительно: Задача 7.**\n"
      ],
      "metadata": {
        "id": "w0x3QFGzKtDD"
      }
    },
    {
      "cell_type": "markdown",
      "source": [
        "\n",
        "**Цифра на определенном месте:**\n",
        "\n",
        "Последовательно записан натуральный ряд чисел.\n",
        "\n",
        "Какая цифра стоит в N позиции\n",
        "\n",
        "\n",
        "Вввод:\n",
        "\n",
        "```\n",
        "Введите номер позиции: 1234567890\n",
        "```\n",
        "\n",
        "Вывод:\n",
        "\n",
        "```\n",
        "8\n",
        "```"
      ],
      "metadata": {
        "id": "QqZArcpHJxVj"
      }
    },
    {
      "cell_type": "code",
      "source": [
        "def find_position(n):\n",
        "    count_numbers = 1\n",
        "    range = 9\n",
        "    start_number = 1\n",
        "\n",
        "\n",
        "    while n > count_numbers * range:\n",
        "        n -= count_numbers * range\n",
        "        count_numbers += 1\n",
        "        range *= 10\n",
        "        start_number *= 10\n",
        "\n",
        "\n",
        "    number = start_number + (n - 1) // count_numbers\n",
        "    number_index = (n - 1) % count_numbers\n",
        "\n",
        "\n",
        "    return int(str(number)[number_index])\n",
        "\n",
        "\n",
        "N = int(input(\"Введите позицию N \"))\n",
        "result = find_position(N)\n",
        "print(result)\n"
      ],
      "metadata": {
        "id": "LwjYwBGcKiJ9",
        "colab": {
          "base_uri": "https://localhost:8080/"
        },
        "outputId": "ada0e091-e107-4112-8e3f-1367a1f050e4"
      },
      "execution_count": null,
      "outputs": [
        {
          "output_type": "stream",
          "name": "stdout",
          "text": [
            "Введите позицию N 1234567890\n",
            "8\n"
          ]
        }
      ]
    }
  ]
}